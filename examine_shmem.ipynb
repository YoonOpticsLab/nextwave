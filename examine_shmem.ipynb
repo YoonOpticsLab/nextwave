{
 "cells": [
  {
   "cell_type": "code",
   "execution_count": 1,
   "id": "3eb67987",
   "metadata": {},
   "outputs": [
    {
     "name": "stdout",
     "output_type": "stream",
     "text": [
      "%pylab is deprecated, use %matplotlib inline and import the required libraries.\n",
      "Populating the interactive namespace from numpy and matplotlib\n"
     ]
    }
   ],
   "source": [
    "%pylab inline"
   ]
  },
  {
   "cell_type": "code",
   "execution_count": 2,
   "id": "9cc21a6e",
   "metadata": {},
   "outputs": [],
   "source": [
    "import extract_memory\n",
    "layout=extract_memory.get_header_format('common/include/memory_layout.h')"
   ]
  },
  {
   "cell_type": "code",
   "execution_count": 3,
   "id": "a2e5eff7",
   "metadata": {},
   "outputs": [],
   "source": [
    "layout=extract_memory.get_header_format('common/include/memory_layout.h')"
   ]
  },
  {
   "cell_type": "code",
   "execution_count": 4,
   "id": "f1dd2c29",
   "metadata": {},
   "outputs": [],
   "source": [
    "from multiprocessing import shared_memory\n",
    "\n",
    "NAME='NW_SRC0_HDR'\n",
    "existing_shm = shared_memory.SharedMemory(name=NAME)"
   ]
  },
  {
   "cell_type": "code",
   "execution_count": 5,
   "id": "e9154d5e",
   "metadata": {},
   "outputs": [],
   "source": [
    "bytes=existing_shm.buf[0:256]"
   ]
  },
  {
   "cell_type": "code",
   "execution_count": 6,
   "id": "a2b36fc6",
   "metadata": {},
   "outputs": [
    {
     "data": {
      "text/plain": [
       "(529,\n",
       " {'lock': {'type': 'uint8_t',\n",
       "   'num_elements': 1,\n",
       "   'num_bytes': 1,\n",
       "   'bytenum_current': 0,\n",
       "   'init': '0'},\n",
       "  'header_version': {'type': 'uint8_t',\n",
       "   'num_elements': 1,\n",
       "   'num_bytes': 1,\n",
       "   'bytenum_current': 1,\n",
       "   'init': '1'},\n",
       "  'manager_port_num': {'type': 'uint16_t',\n",
       "   'num_elements': 1,\n",
       "   'num_bytes': 2,\n",
       "   'bytenum_current': 2,\n",
       "   'init': ''},\n",
       "  'dimensions': {'type': 'uint16_t',\n",
       "   'num_elements': 4,\n",
       "   'num_bytes': 8,\n",
       "   'bytenum_current': 4,\n",
       "   'init': ''},\n",
       "  'datatype_code': {'type': 'uint16_t',\n",
       "   'num_elements': 1,\n",
       "   'num_bytes': 2,\n",
       "   'bytenum_current': 12,\n",
       "   'init': ''},\n",
       "  'num_ring_frames': {'type': 'uint8_t',\n",
       "   'num_elements': 1,\n",
       "   'num_bytes': 1,\n",
       "   'bytenum_current': 14,\n",
       "   'init': ''},\n",
       "  'current_frame': {'type': 'uint8_t',\n",
       "   'num_elements': 1,\n",
       "   'num_bytes': 1,\n",
       "   'bytenum_current': 15,\n",
       "   'init': ''},\n",
       "  'max_frames': {'type': 'uint8_t',\n",
       "   'num_elements': 1,\n",
       "   'num_bytes': 1,\n",
       "   'bytenum_current': 16,\n",
       "   'init': '32'},\n",
       "  'timestamps': {'type': 'uint64_t',\n",
       "   'num_elements': 32,\n",
       "   'num_bytes': 256,\n",
       "   'bytenum_current': 17,\n",
       "   'init': ''},\n",
       "  'statuses': {'type': 'uint64_t',\n",
       "   'num_elements': 32,\n",
       "   'num_bytes': 256,\n",
       "   'bytenum_current': 273,\n",
       "   'init': ''}})"
      ]
     },
     "execution_count": 6,
     "metadata": {},
     "output_type": "execute_result"
    }
   ],
   "source": [
    "layout"
   ]
  },
  {
   "cell_type": "code",
   "execution_count": 7,
   "id": "552bad31",
   "metadata": {},
   "outputs": [
    {
     "data": {
      "text/plain": [
       "1"
      ]
     },
     "execution_count": 7,
     "metadata": {},
     "output_type": "execute_result"
    }
   ],
   "source": [
    "bytes[ layout[1]['current_frame']['bytenum_current'] ]"
   ]
  },
  {
   "cell_type": "code",
   "execution_count": 8,
   "id": "6706c0f1",
   "metadata": {},
   "outputs": [
    {
     "data": {
      "text/plain": [
       "dict_keys(['lock', 'header_version', 'manager_port_num', 'dimensions', 'datatype_code', 'num_ring_frames', 'current_frame', 'max_frames', 'timestamps', 'statuses'])"
      ]
     },
     "execution_count": 8,
     "metadata": {},
     "output_type": "execute_result"
    }
   ],
   "source": [
    "layout[1].keys()"
   ]
  },
  {
   "cell_type": "code",
   "execution_count": null,
   "id": "b7488539",
   "metadata": {},
   "outputs": [],
   "source": []
  },
  {
   "cell_type": "code",
   "execution_count": 9,
   "id": "3c806321",
   "metadata": {},
   "outputs": [
    {
     "data": {
      "text/plain": [
       "{'type': 'uint64_t',\n",
       " 'num_elements': 32,\n",
       " 'num_bytes': 256,\n",
       " 'bytenum_current': 17,\n",
       " 'init': ''}"
      ]
     },
     "execution_count": 9,
     "metadata": {},
     "output_type": "execute_result"
    }
   ],
   "source": [
    "layout[1]['timestamps']"
   ]
  },
  {
   "cell_type": "code",
   "execution_count": 10,
   "id": "6b6c5aa4",
   "metadata": {},
   "outputs": [],
   "source": [
    "current=bytes[layout[1]['current_frame']['bytenum_current']]\n",
    "height=bytes[layout[1]['dimensions']['bytenum_current']]\n",
    "width=bytes[layout[1]['dimensions']['bytenum_current']+1]\n",
    "\n",
    "addr_t1=bytes[layout[1]['timestamps']['bytenum_current']:layout[1]['timestamps']['bytenum_current']+8]\n",
    "t1=np.frombuffer( addr_t1, 'uint64', count=1)\n",
    "\n",
    "addr_t2=bytes[layout[1]['timestamps']['bytenum_current']+8:layout[1]['timestamps']['bytenum_current']+16]\n",
    "t2=np.frombuffer( addr_t2, 'uint64', count=1)"
   ]
  },
  {
   "cell_type": "code",
   "execution_count": 11,
   "id": "caeee5e6",
   "metadata": {},
   "outputs": [
    {
     "name": "stdout",
     "output_type": "stream",
     "text": [
      "29 [547960] [553897] [5937] [168.43523665]\n"
     ]
    }
   ],
   "source": [
    "print( current, t1, t2, t2-t1, 1e6/(t2-t1))"
   ]
  },
  {
   "cell_type": "code",
   "execution_count": null,
   "id": "9f3ae4fe",
   "metadata": {},
   "outputs": [],
   "source": []
  },
  {
   "cell_type": "code",
   "execution_count": 13,
   "id": "a50bfda9",
   "metadata": {},
   "outputs": [
    {
     "data": {
      "text/plain": [
       "1280"
      ]
     },
     "execution_count": 13,
     "metadata": {},
     "output_type": "execute_result"
    }
   ],
   "source": [
    "extract_memory.get_array_item(layout,bytes,'dimensions',1)"
   ]
  },
  {
   "cell_type": "code",
   "execution_count": 15,
   "id": "91b0ca54",
   "metadata": {},
   "outputs": [],
   "source": [
    ".pytpe"
   ]
  },
  {
   "cell_type": "code",
   "execution_count": 16,
   "id": "69397531",
   "metadata": {},
   "outputs": [],
   "source": [
    "height=np.frombuffer(bytes[layout[1]['dimensions']['bytenum_current']:\n",
    "                           layout[1]['dimensions']['bytenum_current']+2], 'uint16', count=1)\n",
    "print( height)"
   ]
  },
  {
   "cell_type": "code",
   "execution_count": null,
   "id": "a4dd4f07",
   "metadata": {},
   "outputs": [],
   "source": [
    "width=np.frombuffer(bytes[layout[1]['dimensions']['bytenum_current']+2:\n",
    "                           layout[1]['dimensions']['bytenum_current']+4], 'uint16', count=1)\n",
    "print( width)"
   ]
  },
  {
   "cell_type": "code",
   "execution_count": null,
   "id": "82c841a4",
   "metadata": {},
   "outputs": [],
   "source": [
    "extract_memory.numbytes['uint16_t']"
   ]
  },
  {
   "cell_type": "code",
   "execution_count": null,
   "id": "e6e7bc4d",
   "metadata": {},
   "outputs": [],
   "source": [
    "layout[1]['dimensions']"
   ]
  },
  {
   "cell_type": "code",
   "execution_count": null,
   "id": "90530116",
   "metadata": {},
   "outputs": [],
   "source": []
  }
 ],
 "metadata": {
  "kernelspec": {
   "display_name": "Python 3 (ipykernel)",
   "language": "python",
   "name": "python3"
  },
  "language_info": {
   "codemirror_mode": {
    "name": "ipython",
    "version": 3
   },
   "file_extension": ".py",
   "mimetype": "text/x-python",
   "name": "python",
   "nbconvert_exporter": "python",
   "pygments_lexer": "ipython3",
   "version": "3.9.13"
  }
 },
 "nbformat": 4,
 "nbformat_minor": 5
}
