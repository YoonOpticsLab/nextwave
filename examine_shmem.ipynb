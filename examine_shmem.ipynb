{
 "cells": [
  {
   "cell_type": "code",
   "execution_count": 1,
   "id": "9b8e7bd4",
   "metadata": {},
   "outputs": [
    {
     "name": "stdout",
     "output_type": "stream",
     "text": [
      "%pylab is deprecated, use %matplotlib inline and import the required libraries.\n",
      "Populating the interactive namespace from numpy and matplotlib\n"
     ]
    }
   ],
   "source": [
    "%pylab inline"
   ]
  },
  {
   "cell_type": "code",
   "execution_count": 2,
   "id": "d5bee429",
   "metadata": {},
   "outputs": [],
   "source": [
    "import extract_memory"
   ]
  },
  {
   "cell_type": "code",
   "execution_count": 3,
   "id": "98dca640",
   "metadata": {},
   "outputs": [],
   "source": [
    "layout=extract_memory.get_header_format('common/include/memory_layout.h')"
   ]
  },
  {
   "cell_type": "code",
   "execution_count": 4,
   "id": "7abc1c15",
   "metadata": {},
   "outputs": [],
   "source": [
    "from multiprocessing import shared_memory\n",
    "\n",
    "NAME='NW_SRC0_HDR'\n",
    "existing_shm = shared_memory.SharedMemory(name=NAME)"
   ]
  },
  {
   "cell_type": "code",
   "execution_count": 5,
   "id": "79b6aa9b",
   "metadata": {},
   "outputs": [],
   "source": [
    "bytes=existing_shm.buf[0:256]"
   ]
  },
  {
   "cell_type": "code",
   "execution_count": 6,
   "id": "1d816e2f",
   "metadata": {},
   "outputs": [
    {
     "data": {
      "text/plain": [
       "[0, 1, 0, 0, 0, 0, 0, 0, 0, 0, 0, 0, 1, 0, 0, 11]"
      ]
     },
     "execution_count": 6,
     "metadata": {},
     "output_type": "execute_result"
    }
   ],
   "source": [
    "[b for b in bytes[0:16]]"
   ]
  },
  {
   "cell_type": "code",
   "execution_count": 7,
   "id": "8a38145e",
   "metadata": {},
   "outputs": [
    {
     "data": {
      "text/plain": [
       "17"
      ]
     },
     "execution_count": 7,
     "metadata": {},
     "output_type": "execute_result"
    }
   ],
   "source": [
    "bytes[ layout[1]['current_frame']['bytenum_current'] ]"
   ]
  },
  {
   "cell_type": "code",
   "execution_count": 8,
   "id": "59c2f2cb",
   "metadata": {},
   "outputs": [
    {
     "data": {
      "text/plain": [
       "dict_keys(['lock', 'header_version', 'manager_port_num', 'dimensions', 'datatype_code', 'num_ring_frames', 'current_frame', 'max_frames', 'timestamps', 'statuses'])"
      ]
     },
     "execution_count": 8,
     "metadata": {},
     "output_type": "execute_result"
    }
   ],
   "source": [
    "layout[1].keys()"
   ]
  },
  {
   "cell_type": "code",
   "execution_count": 18,
   "id": "e8d4f1d9",
   "metadata": {},
   "outputs": [
    {
     "data": {
      "text/plain": [
       "<memory at 0x00000158BC77AC40>"
      ]
     },
     "execution_count": 18,
     "metadata": {},
     "output_type": "execute_result"
    }
   ],
   "source": []
  },
  {
   "cell_type": "code",
   "execution_count": 14,
   "id": "17c572df",
   "metadata": {},
   "outputs": [
    {
     "data": {
      "text/plain": [
       "{'type': 'uint64_t',\n",
       " 'num_elements': 32,\n",
       " 'num_bytes': 256,\n",
       " 'bytenum_current': 17,\n",
       " 'init': ''}"
      ]
     },
     "execution_count": 14,
     "metadata": {},
     "output_type": "execute_result"
    }
   ],
   "source": [
    "layout[1]['timestamps']"
   ]
  },
  {
   "cell_type": "code",
   "execution_count": 83,
   "id": "2c240450",
   "metadata": {},
   "outputs": [],
   "source": [
    "current=bytes[layout[1]['current_frame']['bytenum_current']]\n",
    "height=bytes[layout[1]['dimensions']['bytenum_current']]\n",
    "width=bytes[layout[1]['dimensions']['bytenum_current']+1]\n",
    "\n",
    "addr_t1=bytes[layout[1]['timestamps']['bytenum_current']:layout[1]['timestamps']['bytenum_current']+8]\n",
    "t1=np.frombuffer( addr_t1, 'uint64', count=1)\n",
    "\n",
    "addr_t2=bytes[layout[1]['timestamps']['bytenum_current']+8:layout[1]['timestamps']['bytenum_current']+16]\n",
    "t2=np.frombuffer( addr_t2, 'uint64', count=1)"
   ]
  },
  {
   "cell_type": "code",
   "execution_count": 81,
   "id": "2b35acc8",
   "metadata": {},
   "outputs": [
    {
     "name": "stdout",
     "output_type": "stream",
     "text": [
      "18 [610592] [616529] [5937] [168.43523665]\n"
     ]
    }
   ],
   "source": [
    "print( current, t1, t2, t2-t1, 1e6/(t2-t1))"
   ]
  },
  {
   "cell_type": "code",
   "execution_count": 85,
   "id": "162d2323",
   "metadata": {},
   "outputs": [
    {
     "data": {
      "text/plain": [
       "0"
      ]
     },
     "execution_count": 85,
     "metadata": {},
     "output_type": "execute_result"
    }
   ],
   "source": [
    "width"
   ]
  },
  {
   "cell_type": "code",
   "execution_count": 73,
   "id": "4ecf9a82",
   "metadata": {},
   "outputs": [
    {
     "data": {
      "text/plain": [
       "1000000.0"
      ]
     },
     "execution_count": 73,
     "metadata": {},
     "output_type": "execute_result"
    }
   ],
   "source": [
    "1e6 "
   ]
  },
  {
   "cell_type": "code",
   "execution_count": null,
   "id": "10babcd4",
   "metadata": {},
   "outputs": [],
   "source": []
  }
 ],
 "metadata": {
  "kernelspec": {
   "display_name": "Python 3 (ipykernel)",
   "language": "python",
   "name": "python3"
  },
  "language_info": {
   "codemirror_mode": {
    "name": "ipython",
    "version": 3
   },
   "file_extension": ".py",
   "mimetype": "text/x-python",
   "name": "python",
   "nbconvert_exporter": "python",
   "pygments_lexer": "ipython3",
   "version": "3.9.13"
  }
 },
 "nbformat": 4,
 "nbformat_minor": 5
}
