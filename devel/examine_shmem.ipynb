{
 "cells": [
  {
   "cell_type": "code",
   "execution_count": null,
   "id": "3eb67987",
   "metadata": {},
   "outputs": [],
   "source": [
    "%pylab inline"
   ]
  },
  {
   "cell_type": "code",
   "execution_count": null,
   "id": "9cc21a6e",
   "metadata": {},
   "outputs": [],
   "source": [
    "import extract_memory\n",
    "layout=extract_memory.get_header_format('memory_layout.h')"
   ]
  },
  {
   "cell_type": "code",
   "execution_count": null,
   "id": "f1dd2c29",
   "metadata": {},
   "outputs": [],
   "source": [
    "from multiprocessing import shared_memory\n",
    "\n",
    "NAME='NW_SRC0_HDR'\n",
    "existing_shm = shared_memory.SharedMemory(name=NAME)"
   ]
  },
  {
   "cell_type": "code",
   "execution_count": null,
   "id": "e9154d5e",
   "metadata": {},
   "outputs": [],
   "source": [
    "bytes=existing_shm.buf[0:256]"
   ]
  },
  {
   "cell_type": "code",
   "execution_count": null,
   "id": "a2b36fc6",
   "metadata": {},
   "outputs": [],
   "source": [
    "layout"
   ]
  },
  {
   "cell_type": "code",
   "execution_count": null,
   "id": "552bad31",
   "metadata": {},
   "outputs": [],
   "source": [
    "bytes[ layout[1]['current_frame']['bytenum_current'] ]"
   ]
  },
  {
   "cell_type": "code",
   "execution_count": null,
   "id": "6706c0f1",
   "metadata": {},
   "outputs": [],
   "source": [
    "layout[1].keys()"
   ]
  },
  {
   "cell_type": "code",
   "execution_count": null,
   "id": "b7488539",
   "metadata": {},
   "outputs": [],
   "source": []
  },
  {
   "cell_type": "code",
   "execution_count": null,
   "id": "3c806321",
   "metadata": {},
   "outputs": [],
   "source": [
    "layout[1]['timestamps']"
   ]
  },
  {
   "cell_type": "code",
   "execution_count": null,
   "id": "6b6c5aa4",
   "metadata": {},
   "outputs": [],
   "source": [
    "current=bytes[layout[1]['current_frame']['bytenum_current']]\n",
    "height=bytes[layout[1]['dimensions']['bytenum_current']]\n",
    "width=bytes[layout[1]['dimensions']['bytenum_current']+1]\n",
    "\n",
    "addr_t1=bytes[layout[1]['timestamps']['bytenum_current']:layout[1]['timestamps']['bytenum_current']+8]\n",
    "t1=np.frombuffer( addr_t1, 'uint64', count=1)\n",
    "\n",
    "addr_t2=bytes[layout[1]['timestamps']['bytenum_current']+8:layout[1]['timestamps']['bytenum_current']+16]\n",
    "t2=np.frombuffer( addr_t2, 'uint64', count=1)"
   ]
  },
  {
   "cell_type": "code",
   "execution_count": null,
   "id": "caeee5e6",
   "metadata": {},
   "outputs": [],
   "source": [
    "print( current, t1, t2, t2-t1, 1e6/(t2-t1))"
   ]
  },
  {
   "cell_type": "code",
   "execution_count": null,
   "id": "9f3ae4fe",
   "metadata": {},
   "outputs": [],
   "source": []
  },
  {
   "cell_type": "code",
   "execution_count": null,
   "id": "a50bfda9",
   "metadata": {},
   "outputs": [],
   "source": [
    "for n in[0,1,2]:\n",
    "    print( extract_memory.get_array_item(layout,bytes,'dimensions',n) )"
   ]
  },
  {
   "cell_type": "code",
   "execution_count": null,
   "id": "91b0ca54",
   "metadata": {},
   "outputs": [],
   "source": [
    ".pytpe"
   ]
  },
  {
   "cell_type": "code",
   "execution_count": null,
   "id": "69397531",
   "metadata": {},
   "outputs": [],
   "source": [
    "height=np.frombuffer(bytes[layout[1]['dimensions']['bytenum_current']:\n",
    "                           layout[1]['dimensions']['bytenum_current']+2], 'uint16', count=1)\n",
    "print( height)"
   ]
  },
  {
   "cell_type": "code",
   "execution_count": null,
   "id": "a4dd4f07",
   "metadata": {},
   "outputs": [],
   "source": [
    "width=np.frombuffer(bytes[layout[1]['dimensions']['bytenum_current']+2:\n",
    "                           layout[1]['dimensions']['bytenum_current']+4], 'uint16', count=1)\n",
    "print( width)"
   ]
  },
  {
   "cell_type": "code",
   "execution_count": null,
   "id": "82c841a4",
   "metadata": {},
   "outputs": [],
   "source": [
    "extract_memory.numbytes['uint16_t']"
   ]
  },
  {
   "cell_type": "code",
   "execution_count": null,
   "id": "e6e7bc4d",
   "metadata": {},
   "outputs": [],
   "source": [
    "layout[1]['dimensions']"
   ]
  },
  {
   "cell_type": "code",
   "execution_count": null,
   "id": "90530116",
   "metadata": {},
   "outputs": [],
   "source": [
    "NAME='NW_SRC0_BUFFER'\n",
    "buffer0 = shared_memory.SharedMemory(name=NAME)"
   ]
  },
  {
   "cell_type": "code",
   "execution_count": null,
   "id": "668bf5c3-6fa6-425f-a7a9-12d6d0837243",
   "metadata": {},
   "outputs": [],
   "source": [
    "bytez=buffer0.buf[0:2048*2048]\n",
    "fram=np.frombuffer( bytez, 'uint8', 2048*2048)"
   ]
  },
  {
   "cell_type": "code",
   "execution_count": null,
   "id": "9c2afcb2-0b26-4d2e-be16-9e3fb723fcb1",
   "metadata": {},
   "outputs": [],
   "source": [
    "fram = np.reshape( fram, (2048,2048) )"
   ]
  },
  {
   "cell_type": "code",
   "execution_count": null,
   "id": "db2bbad7-5cf2-4083-abbc-61cb4ccbed7b",
   "metadata": {},
   "outputs": [],
   "source": [
    "plt.imshow(fram)"
   ]
  },
  {
   "cell_type": "code",
   "execution_count": null,
   "id": "06fd130f-73ab-4d9f-848b-73891fe54e26",
   "metadata": {},
   "outputs": [],
   "source": [
    "fram.tofile('spots.bin')"
   ]
  },
  {
   "cell_type": "code",
   "execution_count": null,
   "id": "833753a0-23f4-4fcd-92be-93c388bf47e0",
   "metadata": {},
   "outputs": [],
   "source": []
  }
 ],
 "metadata": {
  "kernelspec": {
   "display_name": "Python 3 (ipykernel)",
   "language": "python",
   "name": "python3"
  },
  "language_info": {
   "codemirror_mode": {
    "name": "ipython",
    "version": 3
   },
   "file_extension": ".py",
   "mimetype": "text/x-python",
   "name": "python",
   "nbconvert_exporter": "python",
   "pygments_lexer": "ipython3",
   "version": "3.10.11"
  }
 },
 "nbformat": 4,
 "nbformat_minor": 5
}
