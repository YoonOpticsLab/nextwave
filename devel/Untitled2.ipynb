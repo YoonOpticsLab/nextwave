{
 "cells": [
  {
   "cell_type": "code",
   "execution_count": null,
   "id": "9621aae5",
   "metadata": {},
   "outputs": [],
   "source": [
    "#include <arrayfire.h>"
   ]
  },
  {
   "cell_type": "code",
   "execution_count": null,
   "id": "070b9689",
   "metadata": {},
   "outputs": [],
   "source": []
  }
 ],
 "metadata": {
  "kernelspec": {
   "display_name": "C++17",
   "language": "C++17",
   "name": "xcpp17"
  }
 },
 "nbformat": 4,
 "nbformat_minor": 5
}
