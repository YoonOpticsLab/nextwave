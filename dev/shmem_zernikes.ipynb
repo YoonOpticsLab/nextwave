{
 "cells": [
  {
   "cell_type": "code",
   "execution_count": null,
   "id": "0",
   "metadata": {},
   "outputs": [],
   "source": [
    "%pylab inline"
   ]
  },
  {
   "cell_type": "code",
   "execution_count": null,
   "id": "1",
   "metadata": {},
   "outputs": [],
   "source": [
    "import sys\n",
    "import os\n",
    "import mmap"
   ]
  },
  {
   "cell_type": "code",
   "execution_count": null,
   "id": "2",
   "metadata": {},
   "outputs": [],
   "source": [
    "pwd"
   ]
  },
  {
   "cell_type": "code",
   "execution_count": null,
   "id": "3",
   "metadata": {},
   "outputs": [],
   "source": [
    "from multiprocessing import shared_memory\n",
    "\n",
    "sys.path.append(\"..\")\n",
    "import extract_memory\n",
    "layout=extract_memory.get_header_format('../memory_layout.h')\n",
    "NAME='NW_SRC0_HDR'\n",
    "shmem_main = shared_memory.SharedMemory(name=NAME)\n",
    "\n",
    "layout_log=extract_memory.get_header_format('../layout_log.h')\n",
    "NAME='NW_LOG'\n",
    "#shm_log = shared_memory.SharedMemory(name=NAME, size=1024*1024)\n",
    "\n",
    "layoutb=extract_memory.get_header_format('../layout_boxes.h')\n",
    "shmem_boxes = shared_memory.SharedMemory(name=\"NW_BUFFER_BOXES\")\n",
    "buf_boxes=shmem_boxes.buf\n",
    "#test"
   ]
  },
  {
   "cell_type": "code",
   "execution_count": null,
   "id": "4",
   "metadata": {},
   "outputs": [],
   "source": [
    "import psutil\n",
    "print( psutil.cpu_times() )\n",
    "#cputimes(user=237.75, system=402.5625, idle=7884.859375, interrupt=2.421875, dpc=3.71875)\n",
    "psutil.virtual_memory()"
   ]
  },
  {
   "cell_type": "code",
   "execution_count": null,
   "id": "5",
   "metadata": {},
   "outputs": [],
   "source": [
    "nptypes={'double':np.float64, 'uint16_t':np.uint16,'uint8_t':np.uint8}\n",
    "def shmem_item(shmem1,layout,varname):\n",
    "    item_info=layout[1][varname]\n",
    "    data=np.frombuffer(shmem1, dtype=nptypes[item_info['type']],\n",
    "                       count=item_info['num_elements'], offset=item_info['bytenum_current'])\n",
    "    if len(data)==1:\n",
    "        data=data[0]\n",
    "    return data\n",
    "\n",
    "def shmem_write(shmem1,layout,varname,data):\n",
    "    item_info=layout[1][varname]\n",
    "    bytez =np.array(data, dtype=nptypes[item_info['type']]).tobytes()   \n",
    "    offset=item_info['bytenum_current']\n",
    "    shmem1[offset : offset + len(bytez)] = bytez\n",
    "\n",
    "class NW_shmem:\n",
    "    def __init__(self,mem,layout):\n",
    "        self.mem = mem\n",
    "        self.layout = layout\n",
    "\n",
    "    def item(self,name):\n",
    "        return shmem_item(self.mem, self.layout, name)\n",
    "\n",
    "    def write(self,name,data):\n",
    "        return shmem_write(self.mem, self.layout, name, data)\n",
    "\n",
    "# OLD WAY:\n",
    "num_boxes=shmem_item( buf_boxes, layoutb, 'num_boxes')\n",
    "centroid_x=shmem_item( buf_boxes, layoutb, 'centroid_x')[0:num_boxes]\n",
    "centroid_y=shmem_item( buf_boxes, layoutb, 'centroid_y')[0:num_boxes]\n",
    "reference_x=shmem_item( buf_boxes, layoutb, 'reference_x')[0:num_boxes]\n",
    "reference_y=shmem_item( buf_boxes, layoutb, 'reference_y')[0:num_boxes]\n",
    "\n",
    "# New way:\n",
    "boxmem = NW_shmem(buf_boxes,layoutb)\n",
    "boxmem.item(\"num_boxes\")\n",
    "\n",
    "mem0 = NW_shmem(shmem_main.buf,layout)\n",
    "\n",
    "print( num_boxes, centroid_x[0],  centroid_y[0] )"
   ]
  },
  {
   "cell_type": "code",
   "execution_count": null,
   "id": "6",
   "metadata": {},
   "outputs": [],
   "source": [
    "boxmem.item(\"num_boxes\")"
   ]
  },
  {
   "cell_type": "code",
   "execution_count": null,
   "id": "7",
   "metadata": {},
   "outputs": [],
   "source": []
  },
  {
   "cell_type": "code",
   "execution_count": null,
   "id": "8",
   "metadata": {},
   "outputs": [],
   "source": [
    "cd c:\\code\\nextwave\\dev"
   ]
  },
  {
   "cell_type": "code",
   "execution_count": null,
   "id": "9",
   "metadata": {},
   "outputs": [],
   "source": [
    "import zernike_functions\n",
    "zterms_full=np.load(\"../zterms_full.npy\")"
   ]
  },
  {
   "cell_type": "code",
   "execution_count": null,
   "id": "10",
   "metadata": {},
   "outputs": [],
   "source": [
    "zterms_full.shape, zterms_full.shape[1]/2"
   ]
  },
  {
   "cell_type": "code",
   "execution_count": null,
   "id": "11",
   "metadata": {},
   "outputs": [],
   "source": [
    "slopes_est[1:len(slopes_est)].mean()"
   ]
  },
  {
   "cell_type": "code",
   "execution_count": null,
   "id": "12",
   "metadata": {},
   "outputs": [],
   "source": [
    "mirs=np.loadtxt(\"../mirror_voltages.txt\")\n",
    "infi=np.load('../influ.npy')"
   ]
  },
  {
   "cell_type": "code",
   "execution_count": null,
   "id": "13",
   "metadata": {},
   "outputs": [],
   "source": [
    "#slopes_est2.reshape( (len(slopes_est2)//2, 2) ).T"
   ]
  },
  {
   "cell_type": "code",
   "execution_count": null,
   "id": "14",
   "metadata": {},
   "outputs": [],
   "source": [
    "boxmem.layout[1].keys()"
   ]
  },
  {
   "cell_type": "code",
   "execution_count": null,
   "id": "15",
   "metadata": {},
   "outputs": [],
   "source": []
  },
  {
   "cell_type": "code",
   "execution_count": null,
   "id": "16",
   "metadata": {},
   "outputs": [],
   "source": []
  },
  {
   "cell_type": "code",
   "execution_count": null,
   "id": "17",
   "metadata": {},
   "outputs": [],
   "source": [
    "inf_full = np.loadtxt(\n",
    "    \"c:/MiniWave/MiniWaveConfiguration/InfluenceMatrix_ALPAO_7.2mm_.dat\" , skiprows=1)"
   ]
  },
  {
   "cell_type": "code",
   "execution_count": null,
   "id": "18",
   "metadata": {},
   "outputs": [],
   "source": [
    "sys.path.append(\"c:/code/nextwave\")\n",
    "import functions_grid\n",
    "nvalid_boxes = boxmem.item('pupil_radius_um')/boxmem.item('box_um')*1000\n",
    "valid_indices=functions_grid.find_indices(inf_full, nvalid_boxes)\n",
    "print( len(valid_indices) )\n",
    "\n",
    "inf_full = inf_full[:,valid_indices]"
   ]
  },
  {
   "cell_type": "code",
   "execution_count": null,
   "id": "19",
   "metadata": {},
   "outputs": [],
   "source": [
    "%load_ext autoreload\n",
    "%autoreload 2"
   ]
  },
  {
   "cell_type": "code",
   "execution_count": null,
   "id": "20",
   "metadata": {},
   "outputs": [],
   "source": [
    "DESIRED_MODES=85\n",
    "\n",
    "from matplotlib.ticker import ScalarFormatter\n",
    "formatter = ScalarFormatter()\n",
    "formatter.set_scientific(False) # Example: disable scientific notation\n",
    "formatter.set_useOffset(False) # Example: disable offset\n",
    "\n",
    "#if len(self.acts_outside)>0:\n",
    "#    self.influence[self.acts_outside,:] = 0 # Zero them out, if any\n",
    "U, s, V = np.linalg.svd(inf_full, full_matrices=True)\n",
    "s_recip = 1/s\n",
    "plt.figure(figsize=(15,4))\n",
    "plt.bar(np.arange(len(s_recip)), s_recip/s_recip[0] )\n",
    "plt.semilogy()\n",
    "plt.gca().yaxis.set_major_formatter(formatter)\n",
    "plt.grid()\n",
    "\n",
    "if DESIRED_MODES < len(s):\n",
    "    s_recip[DESIRED_MODES:] = 0\n",
    "    \n",
    "s_recip[ s<1e-10 ] = 0 # Set any tinies (or 0) to zero\n",
    "\n",
    "influence_inv = ( (U * s_recip) @ V[0:97,:] ).T\n",
    "#print( max_boxes, len(valid_boxes), self.influence.shape, s.max(), valid_boxes[0:10], RR.shape )\n",
    "\n",
    "plt.plot( s_recip/s_recip[0], 'r-')"
   ]
  },
  {
   "cell_type": "code",
   "execution_count": null,
   "id": "21",
   "metadata": {},
   "outputs": [],
   "source": [
    "influence_inv.shape, slope_reshape.shape"
   ]
  },
  {
   "cell_type": "code",
   "execution_count": null,
   "id": "22",
   "metadata": {},
   "outputs": [],
   "source": [
    "\n"
   ]
  },
  {
   "cell_type": "code",
   "execution_count": null,
   "id": "23",
   "metadata": {},
   "outputs": [],
   "source": [
    "GAIN=0.5\n",
    "Z_TERMS = 65\n",
    "\n",
    "shmir =shmem_item( buf_boxes, layoutb, 'mirror_voltages')[0:97]\n",
    "print( shmir.max())\n",
    "\n",
    "centroid_x=boxmem.item('centroid_x')[0:num_boxes]\n",
    "centroid_y=boxmem.item('centroid_y')[0:num_boxes]\n",
    "reference_x=boxmem.item('reference_x')[0:num_boxes]\n",
    "reference_y=boxmem.item('reference_y')[0:num_boxes]\n",
    "\n",
    "# This matches what is shown on the screen\n",
    "spot_displace_x =   centroid_x - reference_x  \n",
    "spot_displace_y =   centroid_y - reference_y\n",
    "\n",
    "MULT=5\n",
    "plt.plot( (reference_x,reference_x+spot_displace_x*MULT),\n",
    "         (reference_y,reference_y+spot_displace_y*MULT), 'g-' )\n",
    "plt.plot( reference_x,reference_y, 'k.' )\n",
    "plt.gca().invert_yaxis()\n",
    "plt.gca().axis('equal')\n",
    "\n",
    "spot_displace_y -= spot_displace_y.mean()\n",
    "spot_displace_x -= spot_displace_x.mean()\n",
    "spot_displace_y = -spot_displace_y\n",
    "\n",
    "slope = np.concatenate( (spot_displace_y, spot_displace_x)) * (boxmem.item(\"pixel_um\")) /( boxmem.item(\"focal_um\")/1000)\n",
    "coeff=np.matmul(zterms_full,slope)\n",
    "zernikes=coeff[zernike_functions.CVS_to_OSA_map[0:len(coeff)]] # Return value will is OSA\n",
    "\n",
    "#Z_TERMS = 35\n",
    "#zt_inv = pinv(zterms_full[0:Z_TERMS] )\n",
    "\n",
    "zt_inv2 = pinv(zterms_full[0:Z_TERMS] )\n",
    "slopes_est2 =np.matmul( zt_inv2, zernikes[zernike_functions.OSA_to_CVS_map[0:Z_TERMS]] )\n",
    "slopes_est=slopes_est2\n",
    "\n",
    "plt.figure(figsize=(15,2))\n",
    "plt.bar( np.arange(len(zernikes[1:])), zernikes[1:] )\n",
    "\n",
    "plt.figure(figsize=(15,4))\n",
    "plt.plot( slopes_est2, label='full' )\n",
    "plt.plot( slope, '.', label='orig' )\n",
    "plt.plot( slopes_est, ls='--', label='partial' )\n",
    "plt.xlim(0-5, len(slope)+5 )\n",
    "plt.legend()\n",
    "\n",
    "plt.figure(figsize=(15,4))\n",
    "#plt.plot( mirs, 'o-' )\n",
    "#plt.plot( shmir, 's-' )\n",
    "plt.grid()\n",
    "\n",
    "halfway = slopes_est.shape[0]//2\n",
    "#slopes_desired1 = np.vstack( (-slopes_est[halfway:],slopes_est[:halfway]) ).T.flatten()\n",
    "slope_reshape=np.concatenate( (slopes_est2[::2], slopes_est2[1::2] ) )\n",
    "mirs_new = np.matmul(infi.T,slope_reshape/1000.0)\n",
    "if False:\n",
    "    plt.plot( mirs_new*GAIN, 'x' )\n",
    "\n",
    "#slope_reshape = np.vstack( (slope[halfway:],slope[:halfway]) ).T.flatten()\n",
    "#mirs_new = np.matmul(infi.T, slope_reshape/1000.0)\n",
    "#plt.plot( -mirs_new*GAIN, '.' )\n",
    "#\n",
    "#slope_reshape = np.vstack( (slopes_est2[halfway:],slopes_est2[:halfway]) ).T.flatten()\n",
    "#mirs_new = np.matmul(infi.T, slope_reshape/1000.0)\n",
    "#plt.plot( -mirs_new*GAIN, 'k:' )\n",
    "\n",
    "# Last one: one used\n",
    "slope_reshape = np.vstack( (slopes_est2[halfway:],slopes_est2[:halfway]) ).T.flatten()\n",
    "mirs_new = np.matmul(influence_inv.T, slope_reshape/1000.0)\n",
    "plt.plot( -mirs_new*GAIN, 'r--' )"
   ]
  },
  {
   "cell_type": "code",
   "execution_count": null,
   "id": "24",
   "metadata": {},
   "outputs": [],
   "source": [
    "mirs_now=boxmem.item(\"mirror_voltages\")[0:97]\n",
    "boxmem.write(\"mirror_voltages\",-mirs_new*GAIN+mirs_now)\n",
    "mem0.write(\"mode\",[mem0.item(\"mode\") | 0x20] )"
   ]
  },
  {
   "cell_type": "code",
   "execution_count": null,
   "id": "25",
   "metadata": {},
   "outputs": [],
   "source": [
    "mem0.item(\"mode\")"
   ]
  },
  {
   "cell_type": "code",
   "execution_count": null,
   "id": "26",
   "metadata": {},
   "outputs": [],
   "source": [
    "mem0.mem.readonly"
   ]
  },
  {
   "cell_type": "code",
   "execution_count": null,
   "id": "27",
   "metadata": {},
   "outputs": [],
   "source": [
    "plt.plot( -mirs_new*GAIN - shmir )"
   ]
  },
  {
   "cell_type": "code",
   "execution_count": null,
   "id": "28",
   "metadata": {},
   "outputs": [],
   "source": [
    "plt.figure(figsize=(15,4))\n",
    "slope_reshape = np.vstack( (slopes_est2[halfway:],slopes_est2[:halfway]) ).T.flatten()\n",
    "slope_reshape = np.vstack( (slope[halfway:],slope[:halfway]) ).T.flatten()\n",
    "plt.plot( slope_reshape/1000.0, label='est')\n",
    "\n",
    "shlop=shmem_item( buf_boxes, layoutb, 'box_x_normalized')[0:num_boxes*2]\n",
    "plt.plot( shlop, label='shmem')\n",
    "\n",
    "plt.xlim(100,300)\n",
    "plt.legend()"
   ]
  },
  {
   "cell_type": "code",
   "execution_count": null,
   "id": "29",
   "metadata": {},
   "outputs": [],
   "source": []
  },
  {
   "cell_type": "code",
   "execution_count": null,
   "id": "30",
   "metadata": {},
   "outputs": [],
   "source": []
  }
 ],
 "metadata": {
  "kernelspec": {
   "display_name": "Python 3 (ipykernel)",
   "language": "python",
   "name": "python3"
  },
  "language_info": {
   "codemirror_mode": {
    "name": "ipython",
    "version": 3
   },
   "file_extension": ".py",
   "mimetype": "text/x-python",
   "name": "python",
   "nbconvert_exporter": "python",
   "pygments_lexer": "ipython3",
   "version": "3.12.5"
  }
 },
 "nbformat": 4,
 "nbformat_minor": 5
}
