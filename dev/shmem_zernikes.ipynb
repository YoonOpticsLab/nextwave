{
 "cells": [
  {
   "cell_type": "code",
   "execution_count": null,
   "id": "0",
   "metadata": {},
   "outputs": [],
   "source": [
    "%pylab inline"
   ]
  },
  {
   "cell_type": "code",
   "execution_count": null,
   "id": "1",
   "metadata": {},
   "outputs": [],
   "source": [
    "import sys\n",
    "import os\n",
    "import mmap\n",
    "\n",
    "#shmem_boxes=mmap.mmap(-1,MEM_LEN_BOXES,\"NW_BUFFER_BOXES\")\n",
    "\n",
    "sys.path.append(\"..\")\n",
    "import extract_memory\n",
    "layout=extract_memory.get_header_format('../memory_layout.h')"
   ]
  },
  {
   "cell_type": "code",
   "execution_count": null,
   "id": "2",
   "metadata": {},
   "outputs": [],
   "source": [
    "from multiprocessing import shared_memory\n",
    "\n",
    "NAME='NW_SRC0_HDR'\n",
    "shmem_main = shared_memory.SharedMemory(name=NAME)\n",
    "\n",
    "layout_log=extract_memory.get_header_format('../layout_log.h')\n",
    "NAME='NW_LOG'\n",
    "#shm_log = shared_memory.SharedMemory(name=NAME)\n",
    "layoutb=extract_memory.get_header_format('layout_boxes.h')\n",
    "shmem_boxes = shared_memory.SharedMemory(name=\"NW_BUFFER_BOXES\")\n",
    "buf_boxes=shmem_boxes.buf"
   ]
  },
  {
   "cell_type": "code",
   "execution_count": null,
   "id": "3",
   "metadata": {},
   "outputs": [],
   "source": [
    "nptypes={'double':np.float64, 'uint16_t':np.uint16,'uint8_t':np.uint8}\n",
    "def shmem_item(shmem1,layout,varname):\n",
    "    item_info=layout[1][varname]\n",
    "    data=np.frombuffer(shmem1, dtype=nptypes[item_info['type']], count=item_info['num_elements'], offset=item_info['bytenum_current'])\n",
    "    if len(data)==1:\n",
    "        data=data[0]\n",
    "    return data\n",
    "\n",
    "class NW_shmem:\n",
    "    def __init__(self,mem,layout):\n",
    "        self.mem = mem\n",
    "        self.layout = layout\n",
    "\n",
    "    def item(self,name):\n",
    "        return shmem_item(self.mem, self.layout, name)\n",
    "\n",
    "shmem_boxes = NW_shmem(buf_boxes,layoutb)\n",
    "    \n",
    "num_boxes=shmem_item( buf_boxes, layoutb, 'num_boxes')\n",
    "centroid_x=shmem_item( buf_boxes, layoutb, 'centroid_x')\n",
    "centroid_y=shmem_item( buf_boxes, layoutb, 'centroid_y')\n",
    "reference_x=shmem_item( buf_boxes, layoutb, 'reference_x')\n",
    "reference_y=shmem_item( buf_boxes, layoutb, 'reference_y')\n",
    "\n",
    "print( num_boxes, centroid_x[0],  centroid_y[0] )"
   ]
  },
  {
   "cell_type": "code",
   "execution_count": null,
   "id": "4",
   "metadata": {},
   "outputs": [],
   "source": [
    "shmem_boxes.item(\"centroid_y\")[23]"
   ]
  },
  {
   "cell_type": "code",
   "execution_count": null,
   "id": "5",
   "metadata": {},
   "outputs": [],
   "source": [
    "spot_displace_x =   reference_x - centroid_x\n",
    "spot_displace_y = -(reference_y - centroid_y)"
   ]
  },
  {
   "cell_type": "code",
   "execution_count": null,
   "id": "6",
   "metadata": {},
   "outputs": [],
   "source": [
    "plt.plot( centroid_x[0:num_boxes],centroid_y[0:num_boxes], 'k.' )\n",
    "plt.gca().invert_yaxis()"
   ]
  },
  {
   "cell_type": "code",
   "execution_count": null,
   "id": "7",
   "metadata": {},
   "outputs": [],
   "source": []
  }
 ],
 "metadata": {
  "kernelspec": {
   "display_name": "Python 3 (ipykernel)",
   "language": "python",
   "name": "python3"
  },
  "language_info": {
   "codemirror_mode": {
    "name": "ipython",
    "version": 3
   },
   "file_extension": ".py",
   "mimetype": "text/x-python",
   "name": "python",
   "nbconvert_exporter": "python",
   "pygments_lexer": "ipython3",
   "version": "3.12.5"
  }
 },
 "nbformat": 4,
 "nbformat_minor": 5
}
