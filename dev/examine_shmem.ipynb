{
 "cells": [
  {
   "cell_type": "code",
   "execution_count": null,
   "id": "0",
   "metadata": {},
   "outputs": [],
   "source": [
    "%pylab inline"
   ]
  },
  {
   "cell_type": "code",
   "execution_count": null,
   "id": "1",
   "metadata": {},
   "outputs": [],
   "source": [
    "import sys\n",
    "import os\n",
    "import mmap\n",
    "\n",
    "#shmem_boxes=mmap.mmap(-1,MEM_LEN_BOXES,\"NW_BUFFER_BOXES\")\n",
    "\n",
    "sys.path.append(\"..\")\n",
    "import extract_memory\n",
    "layout=extract_memory.get_header_format('../memory_layout.h')"
   ]
  },
  {
   "cell_type": "code",
   "execution_count": null,
   "id": "2",
   "metadata": {},
   "outputs": [],
   "source": [
    "from multiprocessing import shared_memory\n",
    "\n",
    "NAME='NW_SRC0_HDR'\n",
    "shmem_main = shared_memory.SharedMemory(name=NAME)"
   ]
  },
  {
   "cell_type": "code",
   "execution_count": null,
   "id": "3",
   "metadata": {},
   "outputs": [],
   "source": [
    "layout_log=extract_memory.get_header_format('../layout_log.h')"
   ]
  },
  {
   "cell_type": "code",
   "execution_count": null,
   "id": "4",
   "metadata": {},
   "outputs": [],
   "source": [
    "NAME='NW_LOG'\n",
    "shm_log = shared_memory.SharedMemory(name=NAME)"
   ]
  },
  {
   "cell_type": "code",
   "execution_count": null,
   "id": "5",
   "metadata": {},
   "outputs": [],
   "source": [
    "offset=layout[1]['dimensions']['bytenum_current']\n",
    "length=layout[1]['dimensions']['num_bytes']\n",
    "bytes_dim=shmem_main.buf[offset:offset+length]\n",
    "dims=np.frombuffer(bytes_dim, np.uint16 )"
   ]
  },
  {
   "cell_type": "code",
   "execution_count": null,
   "id": "6",
   "metadata": {},
   "outputs": [],
   "source": [
    "rec_len1=layout_log[1]['mirrors']['bytenum_current']+layout_log[1]['mirrors']['num_bytes']"
   ]
  },
  {
   "cell_type": "code",
   "execution_count": null,
   "id": "7",
   "metadata": {},
   "outputs": [],
   "source": [
    "bytes=shm_log.buf[0:rec_len1*2]\n",
    "idx=layout_log[1]['im']['bytenum_current']\n",
    "im1=bytes[ rec_len1+idx:rec_len1+idx+int(layout_log[2]['MAX_IMAGE_SIZE']) ]"
   ]
  },
  {
   "cell_type": "code",
   "execution_count": null,
   "id": "8",
   "metadata": {},
   "outputs": [],
   "source": [
    "plt.figure(figsize=(15,15))\n",
    "im1_arr = np.array(im1[0:int(dims[0])*int(dims[1])])\n",
    "#im1_arr = np.reshape( im1_arr, (2048,2048) ) \n",
    "#plt.imshow( im1_arr[0:500,:], cmap='bone' )\n",
    "\n",
    "im1_arr = np.reshape( im1_arr, (dims[0],dims[1]) ) \n",
    "#plt.imshow( im1_arr[0:500,:], cmap='bone' )\n",
    "plt.imshow( im1_arr, cmap='bone')\n",
    "plt.colorbar()"
   ]
  },
  {
   "cell_type": "code",
   "execution_count": null,
   "id": "9",
   "metadata": {},
   "outputs": [],
   "source": [
    "im_good2 = im1_arr.copy()"
   ]
  },
  {
   "cell_type": "code",
   "execution_count": null,
   "id": "10",
   "metadata": {},
   "outputs": [],
   "source": [
    "plt.figure(figsize=(15,4)); plt.plot( im_flat[580,:] )"
   ]
  },
  {
   "cell_type": "code",
   "execution_count": null,
   "id": "11",
   "metadata": {},
   "outputs": [],
   "source": [
    "#im_ok = im1_arr.copy()\n",
    "im_flat = im1_arr.copy()"
   ]
  },
  {
   "cell_type": "code",
   "execution_count": null,
   "id": "12",
   "metadata": {},
   "outputs": [],
   "source": [
    "plt.imshow( im_flat )"
   ]
  },
  {
   "cell_type": "code",
   "execution_count": null,
   "id": "13",
   "metadata": {},
   "outputs": [],
   "source": [
    "plt.plot( im1_arr[420, :] )\n",
    "plt.ylim(100,140)"
   ]
  },
  {
   "cell_type": "code",
   "execution_count": null,
   "id": "14",
   "metadata": {},
   "outputs": [],
   "source": [
    "plt.figure(figsize=(15,15))\n",
    "plt.subplot(2,2,1)\n",
    "plt.imshow( im_ok[350:450,350:450] )\n",
    "plt.subplot(2,2,2)\n",
    "plt.imshow( im_good2[350:450,350:450] )\n",
    "plt.subplot(2,2,3)\n",
    "plt.imshow( im_flat[350:450,350:450])"
   ]
  },
  {
   "cell_type": "code",
   "execution_count": null,
   "id": "15",
   "metadata": {},
   "outputs": [],
   "source": [
    "np.save(\"im_ok\",im_ok)\n",
    "np.save(\"im_flat\",im_flat)\n",
    "np.save(\"im_good2\",im_good2)"
   ]
  },
  {
   "cell_type": "code",
   "execution_count": null,
   "id": "16",
   "metadata": {},
   "outputs": [],
   "source": [
    "plt.imshow( im_good2[300:700,200:420] )"
   ]
  },
  {
   "cell_type": "code",
   "execution_count": null,
   "id": "17",
   "metadata": {},
   "outputs": [],
   "source": [
    "plt.plot(im_good2[300:700,410] )"
   ]
  },
  {
   "cell_type": "code",
   "execution_count": null,
   "id": "18",
   "metadata": {},
   "outputs": [],
   "source": [
    "im1_arr_save=im1_arr.copy()"
   ]
  },
  {
   "cell_type": "code",
   "execution_count": null,
   "id": "19",
   "metadata": {},
   "outputs": [],
   "source": [
    "plt.figure(figsize=(15,4))\n",
    "plt.subplot(1,2,1)\n",
    "plt.imshow( im1_arr_save )\n",
    "plt.colorbar()\n",
    "\n",
    "plt.subplot(1,2,2)\n",
    "plt.imshow( im1_arr )\n",
    "plt.colorbar()"
   ]
  },
  {
   "cell_type": "code",
   "execution_count": null,
   "id": "20",
   "metadata": {},
   "outputs": [],
   "source": [
    "im1.save(\"im1.png\")"
   ]
  },
  {
   "cell_type": "code",
   "execution_count": null,
   "id": "21",
   "metadata": {},
   "outputs": [],
   "source": []
  },
  {
   "cell_type": "code",
   "execution_count": null,
   "id": "22",
   "metadata": {},
   "outputs": [],
   "source": [
    "idx=layout_log[1]['centroid_x']['bytenum_current']\n",
    "cenx=bytes[ idx:idx+int(layout_log[2]['MAX_BOXES'])*4]\n",
    "numpy_array = np.frombuffer(cenx, dtype=np.float64)\n",
    "print( numpy_array, numpy_array.shape )\n",
    "plt.plot( numpy_array )"
   ]
  },
  {
   "cell_type": "code",
   "execution_count": null,
   "id": "23",
   "metadata": {},
   "outputs": [],
   "source": [
    "idx=layout_log[1]['centroid_y']['bytenum_current']\n",
    "cenx=bytes[ idx:idx+int(layout_log[2]['MAX_BOXES'])*4]\n",
    "numpy_array = np.frombuffer(cenx, dtype=np.float64)\n",
    "print( numpy_array, numpy_array.shape )\n",
    "plt.plot( numpy_array )"
   ]
  },
  {
   "cell_type": "code",
   "execution_count": null,
   "id": "24",
   "metadata": {},
   "outputs": [],
   "source": []
  },
  {
   "cell_type": "code",
   "execution_count": null,
   "id": "25",
   "metadata": {},
   "outputs": [],
   "source": [
    "NAME='NW_LOG'\n",
    "shm_log = shared_memory.SharedMemory(name=NAME)"
   ]
  },
  {
   "cell_type": "code",
   "execution_count": null,
   "id": "26",
   "metadata": {},
   "outputs": [],
   "source": [
    "bytes=shm_log.buf[0:256]\n",
    "bytes[ layout[1]['current_frame']['bytenum_current'] ]"
   ]
  },
  {
   "cell_type": "code",
   "execution_count": null,
   "id": "27",
   "metadata": {},
   "outputs": [],
   "source": [
    "layout[1].keys()"
   ]
  },
  {
   "cell_type": "code",
   "execution_count": null,
   "id": "28",
   "metadata": {},
   "outputs": [],
   "source": []
  },
  {
   "cell_type": "code",
   "execution_count": null,
   "id": "29",
   "metadata": {},
   "outputs": [],
   "source": [
    "layout[1]['timestamps']"
   ]
  },
  {
   "cell_type": "code",
   "execution_count": null,
   "id": "30",
   "metadata": {},
   "outputs": [],
   "source": [
    "current=bytes[layout[1]['current_frame']['bytenum_current']]\n",
    "height=bytes[layout[1]['dimensions']['bytenum_current']]\n",
    "width=bytes[layout[1]['dimensions']['bytenum_current']+1]\n",
    "\n",
    "addr_t1=bytes[layout[1]['timestamps']['bytenum_current']:layout[1]['timestamps']['bytenum_current']+8]\n",
    "t1=np.frombuffer( addr_t1, 'uint64', count=1)\n",
    "\n",
    "addr_t2=bytes[layout[1]['timestamps']['bytenum_current']+8:layout[1]['timestamps']['bytenum_current']+16]\n",
    "t2=np.frombuffer( addr_t2, 'uint64', count=1)"
   ]
  },
  {
   "cell_type": "code",
   "execution_count": null,
   "id": "31",
   "metadata": {},
   "outputs": [],
   "source": [
    "print( current, t1, t2, t2-t1, 1e6/(t2-t1))"
   ]
  },
  {
   "cell_type": "code",
   "execution_count": null,
   "id": "32",
   "metadata": {},
   "outputs": [],
   "source": []
  },
  {
   "cell_type": "code",
   "execution_count": null,
   "id": "33",
   "metadata": {},
   "outputs": [],
   "source": [
    "for n in[0,1,2]:\n",
    "    print( extract_memory.get_array_item(layout,bytes,'dimensions',n) )"
   ]
  },
  {
   "cell_type": "code",
   "execution_count": null,
   "id": "34",
   "metadata": {},
   "outputs": [],
   "source": [
    ".pytpe"
   ]
  },
  {
   "cell_type": "code",
   "execution_count": null,
   "id": "35",
   "metadata": {},
   "outputs": [],
   "source": [
    "height=np.frombuffer(bytes[layout[1]['dimensions']['bytenum_current']:\n",
    "                           layout[1]['dimensions']['bytenum_current']+2], 'uint16', count=1)\n",
    "print( height)"
   ]
  },
  {
   "cell_type": "code",
   "execution_count": null,
   "id": "36",
   "metadata": {},
   "outputs": [],
   "source": [
    "width=np.frombuffer(bytes[layout[1]['dimensions']['bytenum_current']+2:\n",
    "                           layout[1]['dimensions']['bytenum_current']+4], 'uint16', count=1)\n",
    "print( width)"
   ]
  },
  {
   "cell_type": "code",
   "execution_count": null,
   "id": "37",
   "metadata": {},
   "outputs": [],
   "source": [
    "extract_memory.numbytes['uint16_t']"
   ]
  },
  {
   "cell_type": "code",
   "execution_count": null,
   "id": "38",
   "metadata": {},
   "outputs": [],
   "source": [
    "layout[1]['dimensions']"
   ]
  },
  {
   "cell_type": "code",
   "execution_count": null,
   "id": "39",
   "metadata": {},
   "outputs": [],
   "source": [
    "NAME='NW_SRC0_BUFFER'\n",
    "buffer0 = shared_memory.SharedMemory(name=NAME)"
   ]
  },
  {
   "cell_type": "code",
   "execution_count": null,
   "id": "40",
   "metadata": {},
   "outputs": [],
   "source": [
    "bytez=buffer0.buf[0:2048*2048]\n",
    "fram=np.frombuffer( bytez, 'uint8', 2048*2048)"
   ]
  },
  {
   "cell_type": "code",
   "execution_count": null,
   "id": "41",
   "metadata": {},
   "outputs": [],
   "source": [
    "fram = np.reshape( fram, (2048,2048) )"
   ]
  },
  {
   "cell_type": "code",
   "execution_count": null,
   "id": "42",
   "metadata": {},
   "outputs": [],
   "source": [
    "plt.imshow(fram)"
   ]
  },
  {
   "cell_type": "code",
   "execution_count": null,
   "id": "43",
   "metadata": {},
   "outputs": [],
   "source": [
    "fram.tofile('spots.bin')"
   ]
  },
  {
   "cell_type": "code",
   "execution_count": null,
   "id": "44",
   "metadata": {},
   "outputs": [],
   "source": [
    "import mmap\n",
    "fd2=os.open(\"/dev/shm/NW_SRC0_BUFFER\",os.O_RDWR)\n",
    "buf=mmap.mmap(fd2,2048*2048*4)\n",
    "#os.close(fd2)\n"
   ]
  },
  {
   "cell_type": "code",
   "execution_count": null,
   "id": "45",
   "metadata": {},
   "outputs": [],
   "source": [
    "for nbuf in np.arange(4):\n",
    "    buf.seek(nbuf*2048*2048)\n",
    "    buf.write(im)\n",
    "    buf.flush()"
   ]
  },
  {
   "cell_type": "code",
   "execution_count": null,
   "id": "46",
   "metadata": {},
   "outputs": [],
   "source": [
    "buf.seek(0)\n",
    "im_buf=buf.read(1024*1024)\n",
    "arr=np.frombuffer(im_buf)\n",
    "arr[ arr>0 ]"
   ]
  },
  {
   "cell_type": "code",
   "execution_count": null,
   "id": "47",
   "metadata": {},
   "outputs": [],
   "source": []
  },
  {
   "cell_type": "code",
   "execution_count": null,
   "id": "48",
   "metadata": {},
   "outputs": [],
   "source": [
    "filname=\"../ao_testbed_flat.bin\"\n",
    "bytez=np.fromfile(filname, \"uint8\")\n",
    "print( len(bytez), np.sqrt(len(bytez)) )"
   ]
  },
  {
   "cell_type": "code",
   "execution_count": null,
   "id": "49",
   "metadata": {},
   "outputs": [],
   "source": [
    "filname=\"../ao_testbed_flat.bin\"\n",
    "fd_im=os.open(filname,os.O_RDONLY)\n",
    "bytez=os.read(fd_im,992*992)\n",
    "os.close(fd_im)"
   ]
  },
  {
   "cell_type": "code",
   "execution_count": null,
   "id": "50",
   "metadata": {},
   "outputs": [],
   "source": [
    "im=np.frombuffer( bytez, \"uint8\")\n",
    "im=im.reshape( [int(np.sqrt(im.shape[0]))]*2 )"
   ]
  },
  {
   "cell_type": "code",
   "execution_count": null,
   "id": "51",
   "metadata": {},
   "outputs": [],
   "source": [
    "plt.imshow(im)"
   ]
  },
  {
   "cell_type": "code",
   "execution_count": null,
   "id": "52",
   "metadata": {},
   "outputs": [],
   "source": [
    "%cd ..\n",
    "import mmap\n",
    "import extract_memory"
   ]
  },
  {
   "cell_type": "code",
   "execution_count": null,
   "id": "53",
   "metadata": {},
   "outputs": [],
   "source": [
    "layoutb=extract_memory.get_header_format('layout_boxes.h')"
   ]
  },
  {
   "cell_type": "code",
   "execution_count": null,
   "id": "54",
   "metadata": {},
   "outputs": [],
   "source": [
    "eval( layoutb[2]['SHMEM_BUFFER_NAME_BOXES'] )"
   ]
  },
  {
   "cell_type": "code",
   "execution_count": null,
   "id": "55",
   "metadata": {},
   "outputs": [],
   "source": [
    "buf=mmap.mmap(-1,layoutb[0],layoutb[2]['SHMEM_BUFFER_NAME_BOXES'] )"
   ]
  },
  {
   "cell_type": "code",
   "execution_count": null,
   "id": "56",
   "metadata": {},
   "outputs": [],
   "source": [
    "shmem_boxes=mmap.mmap(-1,layoutb[0],\"NW_BUFFER_BOXES\")\n"
   ]
  },
  {
   "cell_type": "code",
   "execution_count": null,
   "id": "57",
   "metadata": {},
   "outputs": [],
   "source": [
    "inv_mat=np.loadtxt('/home/dcoates/share_corsair/inv/myInvMatrix_DM1_90.dat',skiprows=0)"
   ]
  },
  {
   "cell_type": "code",
   "execution_count": null,
   "id": "58",
   "metadata": {},
   "outputs": [],
   "source": [
    "from numpy.linalg import pinv\n",
    "inv_mat.shape, pinv(inv_mat).shape"
   ]
  },
  {
   "cell_type": "code",
   "execution_count": null,
   "id": "59",
   "metadata": {},
   "outputs": [],
   "source": [
    "cens=np.loadtxt('/home/dcoates/share_corsair/inv/centroids.dat',skiprows=2)\n",
    "print( cens.shape[0] * 2 )"
   ]
  },
  {
   "cell_type": "code",
   "execution_count": null,
   "id": "60",
   "metadata": {},
   "outputs": [],
   "source": [
    "vals=cens[:,1:3].flatten()"
   ]
  },
  {
   "cell_type": "code",
   "execution_count": null,
   "id": "61",
   "metadata": {},
   "outputs": [],
   "source": [
    "np.matmul(vals, inv.T) / (24000/5.5)"
   ]
  },
  {
   "cell_type": "code",
   "execution_count": null,
   "id": "62",
   "metadata": {},
   "outputs": [],
   "source": [
    "cens=np.loadtxt('/home/dcoates/share_corsair/inv/vars/2/centroids.dat',skiprows=2)\n",
    "deltas=cens[:,1:3] - cens[:,3:5]\n",
    "deltas[:,0] -= deltas.mean(axis=0)[0]\n",
    "deltas[:,1] -= deltas.mean(axis=0)[1]\n",
    "deltas[:,1] = -deltas[:,1]\n",
    "slopes=deltas.flatten() # X and Y alternate\n",
    "#slopes=np.vstack( (deltas[:,0],deltas[:,1] ) ).flatten() # All x, then all Y\n",
    "slopes /= (24000/11.0)\n",
    "estm=np.matmul(inv_mat,slopes)\n",
    "print( estm[0:10] )\n",
    "\n",
    "mirs=np.loadtxt('/home/dcoates/share_corsair/inv/vars/2/mirror_voltages.txt',skiprows=0)\n",
    "print( mirs[0:10] )\n",
    "plt.plot( estm, mirs, 'o')\n",
    "plt.plot( [estm.min(), estm.max()], [mirs.min(), mirs.max()], 'k--' )"
   ]
  },
  {
   "cell_type": "code",
   "execution_count": null,
   "id": "63",
   "metadata": {},
   "outputs": [],
   "source": [
    "mirs2=np.loadtxt('/home/dcoates/share_corsair/inv/vars/3/mirror_voltages.txt',skiprows=0)\n",
    "mirs3=np.loadtxt('/home/dcoates/share_corsair/inv/vars/4/mirror_voltages.txt',skiprows=0)\n",
    "plt.plot( mirs2, mirs3, 'o')\n",
    "plt.plot( [mirs2.min(), mirs2.max()], [mirs3.min(), mirs3.max()], 'k--' )"
   ]
  },
  {
   "cell_type": "code",
   "execution_count": null,
   "id": "64",
   "metadata": {},
   "outputs": [],
   "source": [
    "plt.plot( mirs2, 'o')\n",
    "plt.plot( mirs3, 'x')"
   ]
  },
  {
   "cell_type": "code",
   "execution_count": null,
   "id": "65",
   "metadata": {},
   "outputs": [],
   "source": [
    "plt.plot( mirs3-mirs2, '.-')"
   ]
  },
  {
   "cell_type": "code",
   "execution_count": null,
   "id": "66",
   "metadata": {},
   "outputs": [],
   "source": [
    "dx=np.load('/home/dcoates/share_corsair/inv/vars/1/dx.npy')\n",
    "dx[0:10]"
   ]
  },
  {
   "cell_type": "code",
   "execution_count": null,
   "id": "67",
   "metadata": {},
   "outputs": [],
   "source": [
    "dx=np.load('/home/dcoates/share_corsair/inv/vars/1/dx.npy')"
   ]
  },
  {
   "cell_type": "code",
   "execution_count": null,
   "id": "68",
   "metadata": {},
   "outputs": [],
   "source": [
    "dx1=np.loadtxt('/home/dcoates/share_corsair/inv/zs_delta_x.txt')\n",
    "dy1=np.loadtxt('/home/dcoates/share_corsair/inv/zs_delta_y.txt')"
   ]
  },
  {
   "cell_type": "code",
   "execution_count": null,
   "id": "69",
   "metadata": {},
   "outputs": [],
   "source": [
    "d1=np.vstack( (-dx1,dy1)).T.flatten()\n",
    "d1 /= (24000/11.0)\n",
    "e1=np.matmul(d1,inv_mat)"
   ]
  },
  {
   "cell_type": "code",
   "execution_count": null,
   "id": "70",
   "metadata": {},
   "outputs": [],
   "source": [
    "plt.plot( e1 )\n",
    "\n",
    "plt.plot( mirs3-mirs2, '.-')"
   ]
  },
  {
   "cell_type": "code",
   "execution_count": null,
   "id": "71",
   "metadata": {},
   "outputs": [],
   "source": [
    "deltas[:,0] -= deltas.mean(axis=0)[0]\n",
    "deltas[:,1] -= deltas.mean(axis=0)[1]\n",
    "deltas[:,1] = -deltas[:,1]\n",
    "slopes=deltas.flatten() # X and Y alternate\n",
    "#slopes=np.vstack( (deltas[:,0],deltas[:,1] ) ).flatten() # All x, then all Y\n",
    "slopes /= (24000/11.0)\n",
    "estm=np.matmul(inv_mat,slopes)\n",
    "print( estm[0:10] )\n"
   ]
  }
 ],
 "metadata": {
  "kernelspec": {
   "display_name": "Python 3 (ipykernel)",
   "language": "python",
   "name": "python3"
  },
  "language_info": {
   "codemirror_mode": {
    "name": "ipython",
    "version": 3
   },
   "file_extension": ".py",
   "mimetype": "text/x-python",
   "name": "python",
   "nbconvert_exporter": "python",
   "pygments_lexer": "ipython3",
   "version": "3.10.11"
  }
 },
 "nbformat": 4,
 "nbformat_minor": 5
}
