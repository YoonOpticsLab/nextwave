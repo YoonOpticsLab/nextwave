{
 "cells": [
  {
   "cell_type": "code",
   "execution_count": null,
   "id": "3eb67987",
   "metadata": {},
   "outputs": [],
   "source": [
    "%pylab inline"
   ]
  },
  {
   "cell_type": "code",
   "execution_count": null,
   "id": "9cc21a6e",
   "metadata": {},
   "outputs": [],
   "source": [
    "import sys\n",
    "import os\n",
    "import mmap\n",
    "shmem_boxes=mmap.mmap(-1,MEM_LEN_BOXES,\"NW_BUFFER_BOXES\")\n",
    "\n",
    "sys.path.append(\"..\")\n",
    "import extract_memory\n",
    "layout=extract_memory.get_header_format('../memory_layout.h')"
   ]
  },
  {
   "cell_type": "code",
   "execution_count": null,
   "id": "f1dd2c29",
   "metadata": {},
   "outputs": [],
   "source": [
    "from multiprocessing import shared_memory\n",
    "\n",
    "NAME='NW_SRC0_HDR'\n",
    "existing_shm = shared_memory.SharedMemory(name=NAME)"
   ]
  },
  {
   "cell_type": "code",
   "execution_count": null,
   "id": "02b6bf1a",
   "metadata": {},
   "outputs": [],
   "source": [
    "shared_memory.SharedMemory?"
   ]
  },
  {
   "cell_type": "code",
   "execution_count": null,
   "id": "e9154d5e",
   "metadata": {},
   "outputs": [],
   "source": [
    "bytes=existing_shm.buf[0:256]"
   ]
  },
  {
   "cell_type": "code",
   "execution_count": null,
   "id": "a2b36fc6",
   "metadata": {},
   "outputs": [],
   "source": [
    "layout"
   ]
  },
  {
   "cell_type": "code",
   "execution_count": null,
   "id": "552bad31",
   "metadata": {},
   "outputs": [],
   "source": [
    "bytes[ layout[1]['current_frame']['bytenum_current'] ]"
   ]
  },
  {
   "cell_type": "code",
   "execution_count": null,
   "id": "6706c0f1",
   "metadata": {},
   "outputs": [],
   "source": [
    "layout[1].keys()"
   ]
  },
  {
   "cell_type": "code",
   "execution_count": null,
   "id": "b7488539",
   "metadata": {},
   "outputs": [],
   "source": []
  },
  {
   "cell_type": "code",
   "execution_count": null,
   "id": "3c806321",
   "metadata": {},
   "outputs": [],
   "source": [
    "layout[1]['timestamps']"
   ]
  },
  {
   "cell_type": "code",
   "execution_count": null,
   "id": "6b6c5aa4",
   "metadata": {},
   "outputs": [],
   "source": [
    "current=bytes[layout[1]['current_frame']['bytenum_current']]\n",
    "height=bytes[layout[1]['dimensions']['bytenum_current']]\n",
    "width=bytes[layout[1]['dimensions']['bytenum_current']+1]\n",
    "\n",
    "addr_t1=bytes[layout[1]['timestamps']['bytenum_current']:layout[1]['timestamps']['bytenum_current']+8]\n",
    "t1=np.frombuffer( addr_t1, 'uint64', count=1)\n",
    "\n",
    "addr_t2=bytes[layout[1]['timestamps']['bytenum_current']+8:layout[1]['timestamps']['bytenum_current']+16]\n",
    "t2=np.frombuffer( addr_t2, 'uint64', count=1)"
   ]
  },
  {
   "cell_type": "code",
   "execution_count": null,
   "id": "caeee5e6",
   "metadata": {},
   "outputs": [],
   "source": [
    "print( current, t1, t2, t2-t1, 1e6/(t2-t1))"
   ]
  },
  {
   "cell_type": "code",
   "execution_count": null,
   "id": "9f3ae4fe",
   "metadata": {},
   "outputs": [],
   "source": []
  },
  {
   "cell_type": "code",
   "execution_count": null,
   "id": "a50bfda9",
   "metadata": {},
   "outputs": [],
   "source": [
    "for n in[0,1,2]:\n",
    "    print( extract_memory.get_array_item(layout,bytes,'dimensions',n) )"
   ]
  },
  {
   "cell_type": "code",
   "execution_count": null,
   "id": "91b0ca54",
   "metadata": {},
   "outputs": [],
   "source": [
    ".pytpe"
   ]
  },
  {
   "cell_type": "code",
   "execution_count": null,
   "id": "69397531",
   "metadata": {},
   "outputs": [],
   "source": [
    "height=np.frombuffer(bytes[layout[1]['dimensions']['bytenum_current']:\n",
    "                           layout[1]['dimensions']['bytenum_current']+2], 'uint16', count=1)\n",
    "print( height)"
   ]
  },
  {
   "cell_type": "code",
   "execution_count": null,
   "id": "a4dd4f07",
   "metadata": {},
   "outputs": [],
   "source": [
    "width=np.frombuffer(bytes[layout[1]['dimensions']['bytenum_current']+2:\n",
    "                           layout[1]['dimensions']['bytenum_current']+4], 'uint16', count=1)\n",
    "print( width)"
   ]
  },
  {
   "cell_type": "code",
   "execution_count": null,
   "id": "82c841a4",
   "metadata": {},
   "outputs": [],
   "source": [
    "extract_memory.numbytes['uint16_t']"
   ]
  },
  {
   "cell_type": "code",
   "execution_count": null,
   "id": "e6e7bc4d",
   "metadata": {},
   "outputs": [],
   "source": [
    "layout[1]['dimensions']"
   ]
  },
  {
   "cell_type": "code",
   "execution_count": null,
   "id": "90530116",
   "metadata": {},
   "outputs": [],
   "source": [
    "NAME='NW_SRC0_BUFFER'\n",
    "buffer0 = shared_memory.SharedMemory(name=NAME)"
   ]
  },
  {
   "cell_type": "code",
   "execution_count": null,
   "id": "668bf5c3-6fa6-425f-a7a9-12d6d0837243",
   "metadata": {},
   "outputs": [],
   "source": [
    "bytez=buffer0.buf[0:2048*2048]\n",
    "fram=np.frombuffer( bytez, 'uint8', 2048*2048)"
   ]
  },
  {
   "cell_type": "code",
   "execution_count": null,
   "id": "9c2afcb2-0b26-4d2e-be16-9e3fb723fcb1",
   "metadata": {},
   "outputs": [],
   "source": [
    "fram = np.reshape( fram, (2048,2048) )"
   ]
  },
  {
   "cell_type": "code",
   "execution_count": null,
   "id": "db2bbad7-5cf2-4083-abbc-61cb4ccbed7b",
   "metadata": {},
   "outputs": [],
   "source": [
    "plt.imshow(fram)"
   ]
  },
  {
   "cell_type": "code",
   "execution_count": null,
   "id": "06fd130f-73ab-4d9f-848b-73891fe54e26",
   "metadata": {},
   "outputs": [],
   "source": [
    "fram.tofile('spots.bin')"
   ]
  },
  {
   "cell_type": "code",
   "execution_count": null,
   "id": "833753a0-23f4-4fcd-92be-93c388bf47e0",
   "metadata": {},
   "outputs": [],
   "source": [
    "import mmap\n",
    "fd2=os.open(\"/dev/shm/NW_SRC0_BUFFER\",os.O_RDWR)\n",
    "buf=mmap.mmap(fd2,2048*2048*4)\n",
    "#os.close(fd2)\n"
   ]
  },
  {
   "cell_type": "code",
   "execution_count": null,
   "id": "52b4c5d5",
   "metadata": {},
   "outputs": [],
   "source": [
    "for nbuf in np.arange(4):\n",
    "    buf.seek(nbuf*2048*2048)\n",
    "    buf.write(im)\n",
    "    buf.flush()"
   ]
  },
  {
   "cell_type": "code",
   "execution_count": null,
   "id": "ff7b26a1",
   "metadata": {},
   "outputs": [],
   "source": [
    "buf.seek(0)\n",
    "im_buf=buf.read(1024*1024)\n",
    "arr=np.frombuffer(im_buf)\n",
    "arr[ arr>0 ]"
   ]
  },
  {
   "cell_type": "code",
   "execution_count": null,
   "id": "4651cbaf",
   "metadata": {},
   "outputs": [],
   "source": []
  },
  {
   "cell_type": "code",
   "execution_count": null,
   "id": "f1a31290",
   "metadata": {},
   "outputs": [],
   "source": [
    "filname=\"../ao_testbed_flat.bin\"\n",
    "bytez=np.fromfile(filname, \"uint8\")\n",
    "print( len(bytez), np.sqrt(len(bytez)) )"
   ]
  },
  {
   "cell_type": "code",
   "execution_count": null,
   "id": "f0c89849",
   "metadata": {},
   "outputs": [],
   "source": [
    "filname=\"../ao_testbed_flat.bin\"\n",
    "fd_im=os.open(filname,os.O_RDONLY)\n",
    "bytez=os.read(fd_im,992*992)\n",
    "os.close(fd_im)"
   ]
  },
  {
   "cell_type": "code",
   "execution_count": null,
   "id": "530e2698",
   "metadata": {},
   "outputs": [],
   "source": [
    "im=np.frombuffer( bytez, \"uint8\")\n",
    "im=im.reshape( [int(np.sqrt(im.shape[0]))]*2 )"
   ]
  },
  {
   "cell_type": "code",
   "execution_count": null,
   "id": "117db185",
   "metadata": {},
   "outputs": [],
   "source": [
    "plt.imshow(im)"
   ]
  },
  {
   "cell_type": "code",
   "execution_count": null,
   "id": "46fda3dc",
   "metadata": {},
   "outputs": [],
   "source": [
    "%cd ..\n",
    "import mmap\n",
    "import extract_memory"
   ]
  },
  {
   "cell_type": "code",
   "execution_count": null,
   "id": "aba84ef0",
   "metadata": {},
   "outputs": [],
   "source": [
    "layoutb=extract_memory.get_header_format('layout_boxes.h')"
   ]
  },
  {
   "cell_type": "code",
   "execution_count": null,
   "id": "96bbeed0",
   "metadata": {},
   "outputs": [],
   "source": [
    "eval( layoutb[2]['SHMEM_BUFFER_NAME_BOXES'] )"
   ]
  },
  {
   "cell_type": "code",
   "execution_count": null,
   "id": "6e0786f2",
   "metadata": {},
   "outputs": [],
   "source": [
    "buf=mmap.mmap(-1,layoutb[0],layoutb[2]['SHMEM_BUFFER_NAME_BOXES'] )"
   ]
  },
  {
   "cell_type": "code",
   "execution_count": null,
   "id": "e8046b8e",
   "metadata": {},
   "outputs": [],
   "source": [
    "shmem_boxes=mmap.mmap(-1,layoutb[0],\"NW_BUFFER_BOXES\")\n"
   ]
  },
  {
   "cell_type": "code",
   "execution_count": null,
   "id": "4b8a4cc2",
   "metadata": {},
   "outputs": [],
   "source": [
    "inv_mat=np.loadtxt('/home/dcoates/share_corsair/inv/myInvMatrix_DM1_90.dat',skiprows=0)"
   ]
  },
  {
   "cell_type": "code",
   "execution_count": null,
   "id": "e0010c30",
   "metadata": {},
   "outputs": [],
   "source": [
    "from numpy.linalg import pinv\n",
    "inv_mat.shape, pinv(inv_mat).shape"
   ]
  },
  {
   "cell_type": "code",
   "execution_count": null,
   "id": "dc598865",
   "metadata": {},
   "outputs": [],
   "source": [
    "cens=np.loadtxt('/home/dcoates/share_corsair/inv/centroids.dat',skiprows=2)\n",
    "print( cens.shape[0] * 2 )"
   ]
  },
  {
   "cell_type": "code",
   "execution_count": null,
   "id": "4714bf9b",
   "metadata": {},
   "outputs": [],
   "source": [
    "vals=cens[:,1:3].flatten()"
   ]
  },
  {
   "cell_type": "code",
   "execution_count": null,
   "id": "4de4b8fa",
   "metadata": {},
   "outputs": [],
   "source": [
    "np.matmul(vals, inv.T) / (24000/5.5)"
   ]
  },
  {
   "cell_type": "code",
   "execution_count": null,
   "id": "3282f559",
   "metadata": {},
   "outputs": [],
   "source": [
    "cens=np.loadtxt('/home/dcoates/share_corsair/inv/vars/2/centroids.dat',skiprows=2)\n",
    "deltas=cens[:,1:3] - cens[:,3:5]\n",
    "deltas[:,0] -= deltas.mean(axis=0)[0]\n",
    "deltas[:,1] -= deltas.mean(axis=0)[1]\n",
    "deltas[:,1] = -deltas[:,1]\n",
    "slopes=deltas.flatten() # X and Y alternate\n",
    "#slopes=np.vstack( (deltas[:,0],deltas[:,1] ) ).flatten() # All x, then all Y\n",
    "slopes /= (24000/11.0)\n",
    "estm=np.matmul(inv_mat,slopes)\n",
    "print( estm[0:10] )\n",
    "\n",
    "mirs=np.loadtxt('/home/dcoates/share_corsair/inv/vars/2/mirror_voltages.txt',skiprows=0)\n",
    "print( mirs[0:10] )\n",
    "plt.plot( estm, mirs, 'o')\n",
    "plt.plot( [estm.min(), estm.max()], [mirs.min(), mirs.max()], 'k--' )"
   ]
  },
  {
   "cell_type": "code",
   "execution_count": null,
   "id": "f6d01df2",
   "metadata": {},
   "outputs": [],
   "source": [
    "mirs2=np.loadtxt('/home/dcoates/share_corsair/inv/vars/3/mirror_voltages.txt',skiprows=0)\n",
    "mirs3=np.loadtxt('/home/dcoates/share_corsair/inv/vars/4/mirror_voltages.txt',skiprows=0)\n",
    "plt.plot( mirs2, mirs3, 'o')\n",
    "plt.plot( [mirs2.min(), mirs2.max()], [mirs3.min(), mirs3.max()], 'k--' )"
   ]
  },
  {
   "cell_type": "code",
   "execution_count": null,
   "id": "de6182e4",
   "metadata": {},
   "outputs": [],
   "source": [
    "plt.plot( mirs2, 'o')\n",
    "plt.plot( mirs3, 'x')"
   ]
  },
  {
   "cell_type": "code",
   "execution_count": null,
   "id": "596d308d",
   "metadata": {},
   "outputs": [],
   "source": [
    "plt.plot( mirs3-mirs2, '.-')"
   ]
  },
  {
   "cell_type": "code",
   "execution_count": null,
   "id": "26789103",
   "metadata": {},
   "outputs": [],
   "source": [
    "dx=np.load('/home/dcoates/share_corsair/inv/vars/1/dx.npy')\n",
    "dx[0:10]"
   ]
  },
  {
   "cell_type": "code",
   "execution_count": null,
   "id": "72f3438c",
   "metadata": {},
   "outputs": [],
   "source": [
    "dx=np.load('/home/dcoates/share_corsair/inv/vars/1/dx.npy')"
   ]
  },
  {
   "cell_type": "code",
   "execution_count": null,
   "id": "92a2a694",
   "metadata": {},
   "outputs": [],
   "source": [
    "dx1=np.loadtxt('/home/dcoates/share_corsair/inv/zs_delta_x.txt')\n",
    "dy1=np.loadtxt('/home/dcoates/share_corsair/inv/zs_delta_y.txt')"
   ]
  },
  {
   "cell_type": "code",
   "execution_count": null,
   "id": "9c5db965",
   "metadata": {},
   "outputs": [],
   "source": [
    "d1=np.vstack( (-dx1,dy1)).T.flatten()\n",
    "d1 /= (24000/11.0)\n",
    "e1=np.matmul(d1,inv_mat)"
   ]
  },
  {
   "cell_type": "code",
   "execution_count": null,
   "id": "25ab82e1",
   "metadata": {},
   "outputs": [],
   "source": [
    "plt.plot( e1 )\n",
    "\n",
    "plt.plot( mirs3-mirs2, '.-')"
   ]
  },
  {
   "cell_type": "code",
   "execution_count": null,
   "id": "daa2b9f4",
   "metadata": {},
   "outputs": [],
   "source": [
    "deltas[:,0] -= deltas.mean(axis=0)[0]\n",
    "deltas[:,1] -= deltas.mean(axis=0)[1]\n",
    "deltas[:,1] = -deltas[:,1]\n",
    "slopes=deltas.flatten() # X and Y alternate\n",
    "#slopes=np.vstack( (deltas[:,0],deltas[:,1] ) ).flatten() # All x, then all Y\n",
    "slopes /= (24000/11.0)\n",
    "estm=np.matmul(inv_mat,slopes)\n",
    "print( estm[0:10] )\n"
   ]
  }
 ],
 "metadata": {
  "kernelspec": {
   "display_name": "Python 3 (ipykernel)",
   "language": "python",
   "name": "python3"
  },
  "language_info": {
   "codemirror_mode": {
    "name": "ipython",
    "version": 3
   },
   "file_extension": ".py",
   "mimetype": "text/x-python",
   "name": "python",
   "nbconvert_exporter": "python",
   "pygments_lexer": "ipython3",
   "version": "3.10.12"
  }
 },
 "nbformat": 4,
 "nbformat_minor": 5
}
