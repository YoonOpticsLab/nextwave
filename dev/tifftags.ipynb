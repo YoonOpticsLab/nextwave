{
 "cells": [
  {
   "cell_type": "code",
   "execution_count": null,
   "id": "0",
   "metadata": {},
   "outputs": [],
   "source": [
    "[ if TiffImagePlugin.TiffTags.TYPES[t]=='double' else None) for t in TiffImagePlugin.TiffTags.TYPES]"
   ]
  },
  {
   "cell_type": "code",
   "execution_count": null,
   "id": "1",
   "metadata": {},
   "outputs": [],
   "source": [
    "'double' in TiffImagePlugin.TiffTags.TYPES"
   ]
  },
  {
   "cell_type": "code",
   "execution_count": null,
   "id": "2",
   "metadata": {},
   "outputs": [],
   "source": [
    "from PIL import Image, TiffImagePlugin\n",
    "from nose.tools import assert_equal\n",
    "\n",
    "def test_custom_metadata():\n",
    "    img = Image.new('L', (300, 300))\n",
    "    img.putpixel((150,150), 255)\n",
    "\n",
    "    info = TiffImagePlugin.ImageFileDirectory()\n",
    "    CustomTagId = 37000\n",
    "\n",
    "    info[CustomTagId] = 3.95\n",
    "    info.tagtype[CustomTagId] = 12 # 'short' according to TiffTags.TYPES\n",
    "\n",
    "    Image.DEBUG=True\n",
    "    TiffImagePlugin.WRITE_LIBTIFF = False # Set to True to see it break.\n",
    "    img.save('temp.tiff', tiffinfo = info)\n",
    "\n",
    "\n",
    "    reloaded = Image.open('temp.tiff')\n",
    "    return reloaded\n",
    "\n",
    "    assert_equal(6, reloaded.tag.getscalar(CustomTagId))\n",
    "\n",
    "\n",
    "reloaded=test_custom_metadata()"
   ]
  },
  {
   "cell_type": "code",
   "execution_count": null,
   "id": "3",
   "metadata": {},
   "outputs": [],
   "source": [
    "reloaded.tag[37000]"
   ]
  },
  {
   "cell_type": "code",
   "execution_count": null,
   "id": "4",
   "metadata": {},
   "outputs": [],
   "source": [
    "list( reloaded.tag.keys() )"
   ]
  },
  {
   "cell_type": "code",
   "execution_count": null,
   "id": "5",
   "metadata": {},
   "outputs": [],
   "source": []
  }
 ],
 "metadata": {
  "kernelspec": {
   "display_name": "Python 3 (ipykernel)",
   "language": "python",
   "name": "python3"
  },
  "language_info": {
   "codemirror_mode": {
    "name": "ipython",
    "version": 3
   },
   "file_extension": ".py",
   "mimetype": "text/x-python",
   "name": "python",
   "nbconvert_exporter": "python",
   "pygments_lexer": "ipython3",
   "version": "3.10.12"
  }
 },
 "nbformat": 4,
 "nbformat_minor": 5
}
