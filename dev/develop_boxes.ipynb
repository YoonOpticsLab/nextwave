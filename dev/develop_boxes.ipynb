{
 "cells": [
  {
   "cell_type": "code",
   "execution_count": null,
   "id": "0",
   "metadata": {},
   "outputs": [],
   "source": [
    "%pylab inline"
   ]
  },
  {
   "cell_type": "code",
   "execution_count": null,
   "id": "1",
   "metadata": {},
   "outputs": [],
   "source": [
    "%load_ext autoreload\n",
    "%autoreload 2"
   ]
  },
  {
   "cell_type": "code",
   "execution_count": null,
   "id": "2",
   "metadata": {},
   "outputs": [],
   "source": [
    "if True:\n",
    "    from PIL import Image    \n",
    "    im = Image.open(\"./resources/testbed_0.2.png\")\n",
    "    #im = Image.open(\"./reference_new2.bmp\")\n",
    "    img = np.array(im)\n",
    "    print( img.shape) # Ydim, Xdim\n",
    "else:\n",
    "    values=np.fromfile('build/spots.bin', dtype='uint8')\n",
    "    img=values.reshape([int(values.shape[0]**0.5)]*2)"
   ]
  },
  {
   "cell_type": "code",
   "execution_count": null,
   "id": "3",
   "metadata": {},
   "outputs": [],
   "source": [
    "img.tofile('build/spots_matlab.bin','') # No sep to force binary"
   ]
  },
  {
   "cell_type": "code",
   "execution_count": null,
   "id": "4",
   "metadata": {},
   "outputs": [],
   "source": [
    "8192*8192* 4"
   ]
  },
  {
   "cell_type": "code",
   "execution_count": null,
   "id": "5",
   "metadata": {},
   "outputs": [],
   "source": [
    "1024*16"
   ]
  },
  {
   "cell_type": "code",
   "execution_count": null,
   "id": "6",
   "metadata": {},
   "outputs": [],
   "source": [
    "16384 * 16384"
   ]
  },
  {
   "cell_type": "code",
   "execution_count": null,
   "id": "7",
   "metadata": {},
   "outputs": [],
   "source": [
    "#cx-boxes_x"
   ]
  },
  {
   "cell_type": "code",
   "execution_count": null,
   "id": "8",
   "metadata": {},
   "outputs": [],
   "source": [
    "#mg[cx-perside//2,]"
   ]
  },
  {
   "cell_type": "code",
   "execution_count": null,
   "id": "9",
   "metadata": {},
   "outputs": [],
   "source": [
    "plt.figure(figsize=(12,12))\n",
    "plt.imshow(img, cmap='bone')\n",
    "#plt.imsave('spots.png', img)\n",
    "\n",
    "#cx,cy=[1038,1038]\n",
    "cx,cy=[500,500]\n",
    "perside=40\n",
    "\n",
    "def box1(cx,cy):\n",
    "    plt.plot( [cx-perside//2,cx+perside//2], [cy-perside//2]*2,'r-', lw=2)\n",
    "    plt.plot( [cx-perside//2,cx+perside//2], [cy+perside//2]*2,'r-', lw=2)\n",
    "    plt.plot( [cx-perside//2]*2, [cy-perside//2,cy+perside//2], 'r-', lw=2)\n",
    "    plt.plot( [cx+perside//2]*2, [cy-perside//2,cy+perside//2], 'r-', lw=2)\n",
    "\n",
    "box1(cx,cy)"
   ]
  },
  {
   "cell_type": "code",
   "execution_count": null,
   "id": "10",
   "metadata": {},
   "outputs": [],
   "source": [
    "437 * 4 * 2"
   ]
  },
  {
   "cell_type": "code",
   "execution_count": null,
   "id": "11",
   "metadata": {},
   "outputs": [],
   "source": []
  },
  {
   "cell_type": "code",
   "execution_count": null,
   "id": "12",
   "metadata": {},
   "outputs": [],
   "source": [
    "img.shape"
   ]
  },
  {
   "cell_type": "code",
   "execution_count": null,
   "id": "13",
   "metadata": {},
   "outputs": [],
   "source": [
    "670/2"
   ]
  },
  {
   "cell_type": "code",
   "execution_count": null,
   "id": "14",
   "metadata": {},
   "outputs": [],
   "source": [
    "from ipywidgets import interact, interactive, fixed, interact_manual\n",
    "import ipywidgets as widgets\n",
    "\n",
    "def f(x):\n",
    "    demo_boxes(x)\n",
    "    return x\n",
    "\n",
    "interact(f, x=widgets.IntSlider(min=300, max=1000, step=1, value=500));"
   ]
  },
  {
   "cell_type": "code",
   "execution_count": null,
   "id": "15",
   "metadata": {},
   "outputs": [],
   "source": [
    "def demo_boxes(pupil_radius_pixel,cx=518,cy=488, limit=12):\n",
    "\n",
    "    # Generate initial searchboxes.\n",
    "    # Inspired by the MATLAB code, but converted to matrix ops instead of loops\n",
    "    #pupil_radius_pixel = 2000 #np.max(img.shape)//2\n",
    "    #box_size_pixel = 100/6.4\n",
    "    #pupil_radius_pixel = np.max(img.shape)//2\n",
    "    #print( \"WHAT\", pupil_radius_pixel)\n",
    "\n",
    "    img_max = np.max(img.shape)//2\n",
    "    \n",
    "    #pupil_radius_pixel = 620\n",
    "\n",
    "    cx=518\n",
    "    cy=488\n",
    "\n",
    "    #box_size_pixel = 40\n",
    "    BOX_UM=328\n",
    "    CCD_PIXEL=5.5*2\n",
    "    #CCD_PIXEL=6.4\n",
    "\n",
    "    print( \"pupil u\", pupil_radius_pixel * CCD_PIXEL)\n",
    "    box_size_pixel=BOX_UM/CCD_PIXEL\n",
    "    print( \"box\", box_size_pixel)\n",
    "\n",
    "    # How many \"boxwidths\" (radius) in the pupil\n",
    "    ri_ratio = pupil_radius_pixel / box_size_pixel\n",
    "\n",
    "    print( \"ri rat\", ri_ratio)\n",
    "    \n",
    "    # The max number of boxes possible + or -\n",
    "    max_boxes = np.ceil( pupil_radius_pixel/ box_size_pixel )\n",
    "\n",
    "    # All possible bilinear box\n",
    "    boxes_x = np.arange(-max_boxes,max_boxes+1) # +1 to include +max_boxes number\n",
    "    boxes_y = np.arange(-max_boxes,max_boxes+1)\n",
    "\n",
    "    # Determine outer edge of each box using corners away from the center:\n",
    "    # 0.5*sign: positive adds 0.5, negative substracts 0.5\n",
    "    #\n",
    "    # Filter valid to only those where the radius is within ri_ratio\n",
    "    XX,YY = np.meshgrid(boxes_x, boxes_y )\n",
    "    RR = np.sqrt( (XX+0.5*np.sign(XX))**2 + (YY+0.5*np.sign(YY))**2 )\n",
    "    valid_boxes = np.where(RR<limit)\n",
    "    max_dist_boxwidths = np.max(RR[RR<limit])\n",
    "\n",
    "    # Normalize to range -1 .. 1 (vs. pupil size)\n",
    "    valid_x_norm=XX[valid_boxes]/ri_ratio\n",
    "    valid_y_norm=YY[valid_boxes]/ri_ratio\n",
    "\n",
    "    num_boxes=valid_x_norm.shape[0]\n",
    "    print( num_boxes, np.min(valid_x_norm), np.min(valid_y_norm))\n",
    "    print( num_boxes, np.max(valid_x_norm), np.max(valid_y_norm))\n",
    "    \n",
    "    box_zero = np.where(valid_x_norm**2+valid_y_norm**2==0)[0] # Locate the central box\n",
    "\n",
    "    valid_x = valid_x_norm * 500  + cx\n",
    "    valid_y = valid_y_norm * 500  + cy\n",
    "    plt.figure(figsize=(8,8))\n",
    "\n",
    "    plt.imshow(img, cmap='bone')\n",
    "\n",
    "    plt.scatter( valid_x, valid_y, s=2)\n",
    "    plt.scatter( valid_x[box_zero], valid_y[box_zero], s=10, color='red')\n",
    "\n",
    "    circle1 = plt.Circle((cx, cy), pupil_radius_pixel, color='r', fill=False)\n",
    "    plt.gca().add_patch(circle1)\n",
    "    plt.axis('equal')"
   ]
  },
  {
   "cell_type": "code",
   "execution_count": null,
   "id": "16",
   "metadata": {},
   "outputs": [],
   "source": [
    "lefts = valid_x_norm-0.5/ri_ratio\n",
    "rights = valid_x_norm+0.5/ri_ratio\n",
    "ups = -( valid_y_norm+0.5/ri_ratio )\n",
    "downs = -( valid_y_norm-0.5/ri_ratio )"
   ]
  },
  {
   "cell_type": "code",
   "execution_count": null,
   "id": "17",
   "metadata": {},
   "outputs": [],
   "source": [
    "ri_ratio"
   ]
  },
  {
   "cell_type": "code",
   "execution_count": null,
   "id": "18",
   "metadata": {},
   "outputs": [],
   "source": [
    "import zernike_integrals\n",
    "from numpy.linalg import svd,lstsq"
   ]
  },
  {
   "cell_type": "code",
   "execution_count": null,
   "id": "19",
   "metadata": {},
   "outputs": [],
   "source": [
    "lenslet_dx,lenslet_dy=zernike_integrals.zernike_integral_average_from_corners(\n",
    "    lefts,rights,ups,downs,6.4)\n",
    "#lenslet_dx /= 6400/1000/2 # pupil\n",
    "#lenslet_dy /= 6400/1000/2 # puil"
   ]
  },
  {
   "cell_type": "code",
   "execution_count": null,
   "id": "20",
   "metadata": {},
   "outputs": [],
   "source": [
    "start_zc=1 # Zero-based, skip first term\n",
    "num_zcs=68\n",
    "\n",
    "lenslet_dx = lenslet_dx[start_zc:num_zcs,:].T\n",
    "lenslet_dy = lenslet_dy[start_zc:num_zcs,:].T"
   ]
  },
  {
   "cell_type": "code",
   "execution_count": null,
   "id": "21",
   "metadata": {},
   "outputs": [],
   "source": []
  },
  {
   "cell_type": "code",
   "execution_count": null,
   "id": "22",
   "metadata": {},
   "outputs": [],
   "source": [
    "lenslet_dx"
   ]
  },
  {
   "cell_type": "code",
   "execution_count": null,
   "id": "23",
   "metadata": {},
   "outputs": [],
   "source": [
    "zpoly = np.hstack( (lenslet_dx.T, lenslet_dy.T ) ).T\n",
    "[uu,ss,vv] = svd(zpoly,False)\n",
    "ss_full = eye(ss.shape[0])*ss"
   ]
  },
  {
   "cell_type": "code",
   "execution_count": null,
   "id": "24",
   "metadata": {},
   "outputs": [],
   "source": [
    "import scipy.io\n",
    "mat_solution=scipy.io.loadmat('../miniwave/matlab_centroid_ui/Zernike fit to spot centroids/svd_vars.mat')"
   ]
  },
  {
   "cell_type": "code",
   "execution_count": null,
   "id": "25",
   "metadata": {},
   "outputs": [],
   "source": [
    "uu.shape,ss.shape,ss_full.shape,vv.shape"
   ]
  },
  {
   "cell_type": "code",
   "execution_count": null,
   "id": "26",
   "metadata": {},
   "outputs": [],
   "source": [
    "leftside = numpy.linalg.lstsq(ss_full, vv, rcond=0)[0].T # Python equiv to MATLAB's vv/ss (solving system of eqns)\n",
    "zterms = np.matmul( leftside, uu.T)\n",
    "coeff=np.matmul(zterms,mat_solution['slope'])\n",
    "\n",
    "#zernikeCVS=np.zeros(num_zcs)\n",
    "#zernikeCVS[start_zc:num_zcs] = coeff"
   ]
  },
  {
   "cell_type": "code",
   "execution_count": null,
   "id": "27",
   "metadata": {},
   "outputs": [],
   "source": [
    "plt.plot( coeff[0:10], 'o' )"
   ]
  },
  {
   "cell_type": "code",
   "execution_count": null,
   "id": "28",
   "metadata": {},
   "outputs": [],
   "source": [
    "plt.plot( mat_solution['coeff'][0:10], 'o' )"
   ]
  },
  {
   "cell_type": "code",
   "execution_count": null,
   "id": "29",
   "metadata": {},
   "outputs": [],
   "source": [
    "what = lstsq( zterms, np.eye(coeff.shape[0])*coeff,rcond=0 )[0].T"
   ]
  },
  {
   "cell_type": "code",
   "execution_count": null,
   "id": "30",
   "metadata": {},
   "outputs": [],
   "source": [
    "inver=np.matmul( zterms.T, coeff )"
   ]
  },
  {
   "cell_type": "code",
   "execution_count": null,
   "id": "31",
   "metadata": {},
   "outputs": [],
   "source": [
    "inver=np.linalg.pinv(zterms)\n",
    "print( inver.shape, zterms.shape )"
   ]
  },
  {
   "cell_type": "code",
   "execution_count": null,
   "id": "32",
   "metadata": {},
   "outputs": [],
   "source": [
    "shape(zterms), shape(inver)"
   ]
  },
  {
   "cell_type": "code",
   "execution_count": null,
   "id": "33",
   "metadata": {},
   "outputs": [],
   "source": [
    "1024 * 1024"
   ]
  },
  {
   "cell_type": "code",
   "execution_count": null,
   "id": "34",
   "metadata": {},
   "outputs": [],
   "source": [
    "num_boxes * 2, "
   ]
  },
  {
   "cell_type": "code",
   "execution_count": null,
   "id": "35",
   "metadata": {},
   "outputs": [],
   "source": [
    "coeff *= 0;\n",
    "coeff[2:4]=2.5\n",
    "plt.plot(coeff)"
   ]
  },
  {
   "cell_type": "code",
   "execution_count": null,
   "id": "36",
   "metadata": {},
   "outputs": [],
   "source": [
    "plt.plot( np.matmul(inver, coeff) )"
   ]
  },
  {
   "cell_type": "code",
   "execution_count": null,
   "id": "37",
   "metadata": {},
   "outputs": [],
   "source": [
    "plt.plot( mat_solution['slope'] )"
   ]
  },
  {
   "cell_type": "code",
   "execution_count": null,
   "id": "38",
   "metadata": {},
   "outputs": [],
   "source": [
    "coeff"
   ]
  },
  {
   "cell_type": "code",
   "execution_count": null,
   "id": "39",
   "metadata": {},
   "outputs": [],
   "source": [
    "x=np.array([1,2,3]); y=np.array([4,5,6])\n",
    "wow=np.vstack((x,y)).T\n",
    "wow.shape\n"
   ]
  },
  {
   "cell_type": "code",
   "execution_count": null,
   "id": "40",
   "metadata": {},
   "outputs": [],
   "source": [
    "# Copied from MATLAB code\n",
    "CVS_to_OSA_map = np.array([3,2, 5,4,6, 9,7,8,10, 15,13,11,12,14,\n",
    "                           21,19,17,16,18,20,\n",
    "                           27,25,23,22,24,26,28, 35,33,31,29,30,32,34,36,\n",
    "                           45,43,41,39,37,38,40,42,44,\n",
    "                           55,53,51,49,47,46,48,50,52,54,\n",
    "                           65,63,61,59,57,56,58,60,62,64,66,67,68,69,70])\n",
    "\n",
    "zernike_OSA=coeff[CVS_to_OSA_map[start_zc-1:num_zcs-1]-start_zc-1 ]"
   ]
  },
  {
   "cell_type": "code",
   "execution_count": null,
   "id": "41",
   "metadata": {},
   "outputs": [],
   "source": [
    "coeff[1]"
   ]
  },
  {
   "cell_type": "code",
   "execution_count": null,
   "id": "42",
   "metadata": {},
   "outputs": [],
   "source": [
    "zernike_OSA[0]"
   ]
  },
  {
   "cell_type": "code",
   "execution_count": null,
   "id": "43",
   "metadata": {},
   "outputs": [],
   "source": [
    "CVS_to_OSA_map[start_zc-1:num_zcs-1]-start_zc-1"
   ]
  },
  {
   "cell_type": "code",
   "execution_count": null,
   "id": "44",
   "metadata": {},
   "outputs": [],
   "source": [
    "idxs=CVS_to_OSA_map[start_zc-1:num_zcs-1]-start_zc-1"
   ]
  },
  {
   "cell_type": "code",
   "execution_count": null,
   "id": "45",
   "metadata": {},
   "outputs": [],
   "source": [
    "np.array( [np.where(CVS_to_OSA_map[:-4]-2==n)[0][0] for n in np.arange(10) ] )"
   ]
  },
  {
   "cell_type": "code",
   "execution_count": null,
   "id": "46",
   "metadata": {},
   "outputs": [],
   "source": [
    "#list(zip(np.arange(len(CVS_to_OSA_map)), CVS_to_OSA_map) )"
   ]
  },
  {
   "cell_type": "code",
   "execution_count": null,
   "id": "47",
   "metadata": {},
   "outputs": [],
   "source": [
    "np.max( zernike_OSA - mat_solution['zernikeOSA'][0:67] )"
   ]
  },
  {
   "cell_type": "code",
   "execution_count": null,
   "id": "48",
   "metadata": {},
   "outputs": [],
   "source": [
    "np.max(coeff - mat_solution['coeff'] )"
   ]
  },
  {
   "cell_type": "code",
   "execution_count": null,
   "id": "49",
   "metadata": {},
   "outputs": [],
   "source": [
    "np.max(zterms - mat_solution['zterms'] )"
   ]
  },
  {
   "cell_type": "code",
   "execution_count": null,
   "id": "50",
   "metadata": {},
   "outputs": [],
   "source": [
    "vv/(eye(ss.shape[0])*ss)*uu.T"
   ]
  },
  {
   "cell_type": "code",
   "execution_count": null,
   "id": "51",
   "metadata": {},
   "outputs": [],
   "source": [
    "zt1=np.load('zterms.npy')\n",
    "slope=np.load('slope.npy')"
   ]
  },
  {
   "cell_type": "code",
   "execution_count": null,
   "id": "52",
   "metadata": {},
   "outputs": [],
   "source": [
    "np.max( zt1-zterms )"
   ]
  },
  {
   "cell_type": "code",
   "execution_count": null,
   "id": "53",
   "metadata": {},
   "outputs": [],
   "source": [
    "np.max(mat_solution['slope']-slope)"
   ]
  },
  {
   "cell_type": "code",
   "execution_count": null,
   "id": "54",
   "metadata": {},
   "outputs": [],
   "source": [
    "np.shape(mat_solution['slope'][0])"
   ]
  },
  {
   "cell_type": "code",
   "execution_count": null,
   "id": "55",
   "metadata": {},
   "outputs": [],
   "source": [
    "plot(slope-1.5);\n",
    "plot(mat_solution['slope'] )"
   ]
  },
  {
   "cell_type": "code",
   "execution_count": null,
   "id": "56",
   "metadata": {},
   "outputs": [],
   "source": [
    "mat_solution['slope']-slope"
   ]
  },
  {
   "cell_type": "code",
   "execution_count": null,
   "id": "57",
   "metadata": {},
   "outputs": [],
   "source": [
    "plt.figure(figsize=(12,12))\n",
    "plt.imshow(img, cmap='bone')\n",
    "box1(valid_x[box_zero], valid_y[box_zero])\n",
    "box1(valid_x[0], valid_y[0])\n",
    "box1(valid_x[8], valid_y[8])\n",
    "box1(valid_x[-1], valid_y[-1])"
   ]
  },
  {
   "cell_type": "code",
   "execution_count": null,
   "id": "58",
   "metadata": {},
   "outputs": [],
   "source": [
    "plt.imshow(img[60:70,340:350])"
   ]
  },
  {
   "cell_type": "code",
   "execution_count": null,
   "id": "59",
   "metadata": {},
   "outputs": [],
   "source": [
    "layout=extract_memory.get_header_format('memory_layout.h')    "
   ]
  },
  {
   "cell_type": "code",
   "execution_count": null,
   "id": "60",
   "metadata": {},
   "outputs": [],
   "source": [
    "defs,size"
   ]
  },
  {
   "cell_type": "code",
   "execution_count": null,
   "id": "61",
   "metadata": {},
   "outputs": [],
   "source": [
    "# https://stackoverflow.com/questions/63553692/how-to-use-memory-mapped-file-in-python-linux\n"
   ]
  },
  {
   "cell_type": "code",
   "execution_count": null,
   "id": "62",
   "metadata": {},
   "outputs": [],
   "source": [
    "import extract_memory\n",
    "size,fields,defs=extract_memory.get_header_format('layout_boxes.h')"
   ]
  },
  {
   "cell_type": "code",
   "execution_count": null,
   "id": "63",
   "metadata": {},
   "outputs": [],
   "source": [
    "import extract_memory\n",
    "size,fields,defs=extract_memory.get_header_format('layout_boxes.h')\n",
    "\n",
    "import struct\n",
    "\n",
    "import os\n",
    "import mmap\n",
    "NUM_BOXES=defs['MAX_BOXES']\n",
    "fd = os.open('/dev/shm/NW_BUFFER_BOXES',os.O_RDWR)\n",
    "shmem_boxes=mmap.mmap(fd,size)\n",
    "\n",
    "\n",
    "class ByteStream(bytearray):\n",
    "    def append(self, v, fmt='>B'):\n",
    "        self.extend(struct.pack(fmt, v))\n",
    "\n",
    "buf = ByteStream()\n",
    "for item in valid_x:\n",
    "    buf.append(item, 'f')\n",
    "shmem_boxes.seek(fields['reference_x']['bytenum_current'])\n",
    "shmem_boxes.write(buf)\n",
    "shmem_boxes.flush()\n",
    "               \n",
    "buf = ByteStream()\n",
    "for item in valid_y:\n",
    "    buf.append(item, 'f')\n",
    "shmem_boxes.seek(fields['reference_y']['bytenum_current'])\n",
    "shmem_boxes.write(buf)\n",
    "shmem_boxes.flush()\n",
    "\n",
    "# Write header last, so the engine knows when we are ready\n",
    "buf = ByteStream()\n",
    "buf.append(1)\n",
    "buf.append(2)\n",
    "buf.append(num_boxes, 'H')\n",
    "buf.append(box_size_pixel, 'd')\n",
    "buf.append(pupil_radius_pixel, 'd')\n",
    "shmem_boxes.seek(0)\n",
    "shmem_boxes.write(buf)\n",
    "shmem_boxes.flush()\n",
    "\n",
    "os.close(fd)"
   ]
  },
  {
   "cell_type": "code",
   "execution_count": null,
   "id": "64",
   "metadata": {},
   "outputs": [],
   "source": [
    "cd .."
   ]
  },
  {
   "cell_type": "code",
   "execution_count": null,
   "id": "65",
   "metadata": {},
   "outputs": [],
   "source": [
    "shmem_boxes.seek(fields['centroid_x']['bytenum_current'])\n",
    "buf=shmem_boxes.read(num_boxes*4)\n",
    "centroids_x=struct.unpack_from(''.join((['f']*num_boxes)), buf)\n",
    "\n",
    "shmem_boxes.seek(fields['centroid_y']['bytenum_current'])\n",
    "buf=shmem_boxes.read(num_boxes*4)\n",
    "centroids_y=struct.unpack_from(''.join((['f']*num_boxes)), buf)\n"
   ]
  },
  {
   "cell_type": "code",
   "execution_count": null,
   "id": "66",
   "metadata": {},
   "outputs": [],
   "source": [
    "plt.plot( centroids_x, centroids_y, '.')\n",
    "plt.axis('equal')"
   ]
  },
  {
   "cell_type": "code",
   "execution_count": null,
   "id": "67",
   "metadata": {},
   "outputs": [],
   "source": [
    "plt.figure(figsize=(15,15))\n",
    "plt.imshow(img, cmap='bone')\n",
    "plt.plot( centroids_x, centroids_y, 'r.', ms=2)\n",
    "\n",
    "plt.plot( ref_x, ref_y, 'b.', ms=2)"
   ]
  },
  {
   "cell_type": "code",
   "execution_count": null,
   "id": "68",
   "metadata": {},
   "outputs": [],
   "source": [
    "#buf\n"
   ]
  },
  {
   "cell_type": "code",
   "execution_count": null,
   "id": "69",
   "metadata": {},
   "outputs": [],
   "source": [
    "0xb5 * 256 + 0x1"
   ]
  },
  {
   "cell_type": "code",
   "execution_count": null,
   "id": "70",
   "metadata": {},
   "outputs": [],
   "source": [
    "plt.figure(figsize=(12,4))\n",
    "plt.plot( img.mean(1) )"
   ]
  },
  {
   "cell_type": "code",
   "execution_count": null,
   "id": "71",
   "metadata": {},
   "outputs": [],
   "source": [
    "1038,1038"
   ]
  },
  {
   "cell_type": "code",
   "execution_count": null,
   "id": "72",
   "metadata": {},
   "outputs": [],
   "source": []
  },
  {
   "cell_type": "code",
   "execution_count": null,
   "id": "73",
   "metadata": {},
   "outputs": [],
   "source": []
  }
 ],
 "metadata": {
  "kernelspec": {
   "display_name": "Python 3 (ipykernel)",
   "language": "python",
   "name": "python3"
  },
  "language_info": {
   "codemirror_mode": {
    "name": "ipython",
    "version": 3
   },
   "file_extension": ".py",
   "mimetype": "text/x-python",
   "name": "python",
   "nbconvert_exporter": "python",
   "pygments_lexer": "ipython3",
   "version": "3.10.12"
  }
 },
 "nbformat": 4,
 "nbformat_minor": 5
}
